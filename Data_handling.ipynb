{
  "nbformat": 4,
  "nbformat_minor": 0,
  "metadata": {
    "colab": {
      "name": "Stats_Assignment2.ipynb",
      "provenance": [],
      "collapsed_sections": []
    },
    "kernelspec": {
      "name": "python3",
      "display_name": "Python 3"
    },
    "language_info": {
      "name": "python"
    }
  },
  "cells": [
    {
      "cell_type": "code",
      "execution_count": 1,
      "metadata": {
        "id": "N-MDFzkzbY10"
      },
      "outputs": [],
      "source": [
        "#importing Important Libraries\n",
        "import pandas as pd\n",
        "import numpy as np"
      ]
    },
    {
      "cell_type": "code",
      "source": [
        "df = pd.read_csv('/content/class-grades.csv', header=None, sep = '\\n')\n",
        "df = df[0].str.split(',', expand=True)\n",
        "\n",
        "\n",
        "# header=0--> deletes column names(header) and assign new column names(if we pass)\n",
        "#expand = True --> the split elements will expand out into separate columns"
      ],
      "metadata": {
        "id": "O-niuXXKbmVn"
      },
      "execution_count": 2,
      "outputs": []
    },
    {
      "cell_type": "markdown",
      "source": [
        "# Dataset Description\n",
        "Grades from a Chemical Engineering course at McMaster University.\n",
        "Data source:\t\n",
        "The recorded values are the average of sub-components: e.g the Tutorial variable is the average of all tutorials, the Final exam variable is the average of all questions in the final, written exam.\n",
        "\n",
        "The Prefix column is the year in which the student first enrolls at the university and is a crude approximation of the student's age (maturity).\n",
        "\n",
        "This particular course permitted students to work in groups for assignments, tutorials and the take-home exam. The groups were self-selected, and varied during the semester.\n",
        "\n",
        "Of interest is whether the assignments, tutorials, midterms or take-home exam are a good predictor of the student's performance in the final exam. Also, does the Prefix variable show any promise as a prediction variable?"
      ],
      "metadata": {
        "id": "80zuWO9r9uzU"
      }
    },
    {
      "cell_type": "code",
      "source": [
        "df.head()"
      ],
      "metadata": {
        "colab": {
          "base_uri": "https://localhost:8080/",
          "height": 206
        },
        "id": "idHGgaBbMnzA",
        "outputId": "1519d117-20b8-45b7-ef2c-2fa48fb28d91"
      },
      "execution_count": 3,
      "outputs": [
        {
          "output_type": "execute_result",
          "data": {
            "text/html": [
              "\n",
              "  <div id=\"df-bf2f6453-7726-4a65-b8e3-ccce43592bd0\">\n",
              "    <div class=\"colab-df-container\">\n",
              "      <div>\n",
              "<style scoped>\n",
              "    .dataframe tbody tr th:only-of-type {\n",
              "        vertical-align: middle;\n",
              "    }\n",
              "\n",
              "    .dataframe tbody tr th {\n",
              "        vertical-align: top;\n",
              "    }\n",
              "\n",
              "    .dataframe thead th {\n",
              "        text-align: right;\n",
              "    }\n",
              "</style>\n",
              "<table border=\"1\" class=\"dataframe\">\n",
              "  <thead>\n",
              "    <tr style=\"text-align: right;\">\n",
              "      <th></th>\n",
              "      <th>0</th>\n",
              "      <th>1</th>\n",
              "      <th>2</th>\n",
              "      <th>3</th>\n",
              "      <th>4</th>\n",
              "      <th>5</th>\n",
              "      <th>6</th>\n",
              "    </tr>\n",
              "  </thead>\n",
              "  <tbody>\n",
              "    <tr>\n",
              "      <th>0</th>\n",
              "      <td>Prefix</td>\n",
              "      <td>Assignment</td>\n",
              "      <td>Tutorial</td>\n",
              "      <td>Midterm</td>\n",
              "      <td>TakeHome</td>\n",
              "      <td>Final</td>\n",
              "      <td>None</td>\n",
              "    </tr>\n",
              "    <tr>\n",
              "      <th>1</th>\n",
              "      <td>05</td>\n",
              "      <td>57.14</td>\n",
              "      <td>34.09</td>\n",
              "      <td>64.38</td>\n",
              "      <td>51.48</td>\n",
              "      <td>52.50</td>\n",
              "      <td>None</td>\n",
              "    </tr>\n",
              "    <tr>\n",
              "      <th>2</th>\n",
              "      <td>08</td>\n",
              "      <td>95.05</td>\n",
              "      <td>105.49</td>\n",
              "      <td>67.50</td>\n",
              "      <td>99.07</td>\n",
              "      <td>68.33</td>\n",
              "      <td>None</td>\n",
              "    </tr>\n",
              "    <tr>\n",
              "      <th>3</th>\n",
              "      <td>08</td>\n",
              "      <td>83.70</td>\n",
              "      <td>83.17</td>\n",
              "      <td>30.0</td>\n",
              "      <td>63.15</td>\n",
              "      <td>48.89</td>\n",
              "      <td>None</td>\n",
              "    </tr>\n",
              "    <tr>\n",
              "      <th>4</th>\n",
              "      <td>07</td>\n",
              "      <td>81.22</td>\n",
              "      <td>96.06</td>\n",
              "      <td>49.38</td>\n",
              "      <td>105.93</td>\n",
              "      <td>80.56</td>\n",
              "      <td>None</td>\n",
              "    </tr>\n",
              "  </tbody>\n",
              "</table>\n",
              "</div>\n",
              "      <button class=\"colab-df-convert\" onclick=\"convertToInteractive('df-bf2f6453-7726-4a65-b8e3-ccce43592bd0')\"\n",
              "              title=\"Convert this dataframe to an interactive table.\"\n",
              "              style=\"display:none;\">\n",
              "        \n",
              "  <svg xmlns=\"http://www.w3.org/2000/svg\" height=\"24px\"viewBox=\"0 0 24 24\"\n",
              "       width=\"24px\">\n",
              "    <path d=\"M0 0h24v24H0V0z\" fill=\"none\"/>\n",
              "    <path d=\"M18.56 5.44l.94 2.06.94-2.06 2.06-.94-2.06-.94-.94-2.06-.94 2.06-2.06.94zm-11 1L8.5 8.5l.94-2.06 2.06-.94-2.06-.94L8.5 2.5l-.94 2.06-2.06.94zm10 10l.94 2.06.94-2.06 2.06-.94-2.06-.94-.94-2.06-.94 2.06-2.06.94z\"/><path d=\"M17.41 7.96l-1.37-1.37c-.4-.4-.92-.59-1.43-.59-.52 0-1.04.2-1.43.59L10.3 9.45l-7.72 7.72c-.78.78-.78 2.05 0 2.83L4 21.41c.39.39.9.59 1.41.59.51 0 1.02-.2 1.41-.59l7.78-7.78 2.81-2.81c.8-.78.8-2.07 0-2.86zM5.41 20L4 18.59l7.72-7.72 1.47 1.35L5.41 20z\"/>\n",
              "  </svg>\n",
              "      </button>\n",
              "      \n",
              "  <style>\n",
              "    .colab-df-container {\n",
              "      display:flex;\n",
              "      flex-wrap:wrap;\n",
              "      gap: 12px;\n",
              "    }\n",
              "\n",
              "    .colab-df-convert {\n",
              "      background-color: #E8F0FE;\n",
              "      border: none;\n",
              "      border-radius: 50%;\n",
              "      cursor: pointer;\n",
              "      display: none;\n",
              "      fill: #1967D2;\n",
              "      height: 32px;\n",
              "      padding: 0 0 0 0;\n",
              "      width: 32px;\n",
              "    }\n",
              "\n",
              "    .colab-df-convert:hover {\n",
              "      background-color: #E2EBFA;\n",
              "      box-shadow: 0px 1px 2px rgba(60, 64, 67, 0.3), 0px 1px 3px 1px rgba(60, 64, 67, 0.15);\n",
              "      fill: #174EA6;\n",
              "    }\n",
              "\n",
              "    [theme=dark] .colab-df-convert {\n",
              "      background-color: #3B4455;\n",
              "      fill: #D2E3FC;\n",
              "    }\n",
              "\n",
              "    [theme=dark] .colab-df-convert:hover {\n",
              "      background-color: #434B5C;\n",
              "      box-shadow: 0px 1px 3px 1px rgba(0, 0, 0, 0.15);\n",
              "      filter: drop-shadow(0px 1px 2px rgba(0, 0, 0, 0.3));\n",
              "      fill: #FFFFFF;\n",
              "    }\n",
              "  </style>\n",
              "\n",
              "      <script>\n",
              "        const buttonEl =\n",
              "          document.querySelector('#df-bf2f6453-7726-4a65-b8e3-ccce43592bd0 button.colab-df-convert');\n",
              "        buttonEl.style.display =\n",
              "          google.colab.kernel.accessAllowed ? 'block' : 'none';\n",
              "\n",
              "        async function convertToInteractive(key) {\n",
              "          const element = document.querySelector('#df-bf2f6453-7726-4a65-b8e3-ccce43592bd0');\n",
              "          const dataTable =\n",
              "            await google.colab.kernel.invokeFunction('convertToInteractive',\n",
              "                                                     [key], {});\n",
              "          if (!dataTable) return;\n",
              "\n",
              "          const docLinkHtml = 'Like what you see? Visit the ' +\n",
              "            '<a target=\"_blank\" href=https://colab.research.google.com/notebooks/data_table.ipynb>data table notebook</a>'\n",
              "            + ' to learn more about interactive tables.';\n",
              "          element.innerHTML = '';\n",
              "          dataTable['output_type'] = 'display_data';\n",
              "          await google.colab.output.renderOutput(dataTable, element);\n",
              "          const docLink = document.createElement('div');\n",
              "          docLink.innerHTML = docLinkHtml;\n",
              "          element.appendChild(docLink);\n",
              "        }\n",
              "      </script>\n",
              "    </div>\n",
              "  </div>\n",
              "  "
            ],
            "text/plain": [
              "        0           1         2        3         4      5     6\n",
              "0  Prefix  Assignment  Tutorial  Midterm  TakeHome  Final  None\n",
              "1      05       57.14     34.09    64.38     51.48  52.50  None\n",
              "2      08       95.05    105.49    67.50     99.07  68.33  None\n",
              "3      08       83.70     83.17     30.0     63.15  48.89  None\n",
              "4      07       81.22     96.06    49.38    105.93  80.56  None"
            ]
          },
          "metadata": {},
          "execution_count": 3
        }
      ]
    },
    {
      "cell_type": "code",
      "source": [
        "#header_row = 0\n",
        "#df.columns = df.iloc[header_row]\n",
        "#print(df)"
      ],
      "metadata": {
        "id": "dv8zwVXaLPNo"
      },
      "execution_count": null,
      "outputs": []
    },
    {
      "cell_type": "markdown",
      "source": [
        "Since Header (Column Names) are in first row of dataset, we need to Move that as Header"
      ],
      "metadata": {
        "id": "qHQ1jg6vZED7"
      }
    },
    {
      "cell_type": "code",
      "source": [
        "df.columns = df.iloc[0]\n",
        "df.head()"
      ],
      "metadata": {
        "colab": {
          "base_uri": "https://localhost:8080/",
          "height": 206
        },
        "id": "LR4KtaYpLPLD",
        "outputId": "50be1567-c3b6-4a3c-c510-d2d3044ae6d3"
      },
      "execution_count": 4,
      "outputs": [
        {
          "output_type": "execute_result",
          "data": {
            "text/html": [
              "\n",
              "  <div id=\"df-05107cc3-cee8-40e2-b710-639838d73ed6\">\n",
              "    <div class=\"colab-df-container\">\n",
              "      <div>\n",
              "<style scoped>\n",
              "    .dataframe tbody tr th:only-of-type {\n",
              "        vertical-align: middle;\n",
              "    }\n",
              "\n",
              "    .dataframe tbody tr th {\n",
              "        vertical-align: top;\n",
              "    }\n",
              "\n",
              "    .dataframe thead th {\n",
              "        text-align: right;\n",
              "    }\n",
              "</style>\n",
              "<table border=\"1\" class=\"dataframe\">\n",
              "  <thead>\n",
              "    <tr style=\"text-align: right;\">\n",
              "      <th></th>\n",
              "      <th>Prefix</th>\n",
              "      <th>Assignment</th>\n",
              "      <th>Tutorial</th>\n",
              "      <th>Midterm</th>\n",
              "      <th>TakeHome</th>\n",
              "      <th>Final</th>\n",
              "      <th>NaN</th>\n",
              "    </tr>\n",
              "  </thead>\n",
              "  <tbody>\n",
              "    <tr>\n",
              "      <th>0</th>\n",
              "      <td>Prefix</td>\n",
              "      <td>Assignment</td>\n",
              "      <td>Tutorial</td>\n",
              "      <td>Midterm</td>\n",
              "      <td>TakeHome</td>\n",
              "      <td>Final</td>\n",
              "      <td>None</td>\n",
              "    </tr>\n",
              "    <tr>\n",
              "      <th>1</th>\n",
              "      <td>05</td>\n",
              "      <td>57.14</td>\n",
              "      <td>34.09</td>\n",
              "      <td>64.38</td>\n",
              "      <td>51.48</td>\n",
              "      <td>52.50</td>\n",
              "      <td>None</td>\n",
              "    </tr>\n",
              "    <tr>\n",
              "      <th>2</th>\n",
              "      <td>08</td>\n",
              "      <td>95.05</td>\n",
              "      <td>105.49</td>\n",
              "      <td>67.50</td>\n",
              "      <td>99.07</td>\n",
              "      <td>68.33</td>\n",
              "      <td>None</td>\n",
              "    </tr>\n",
              "    <tr>\n",
              "      <th>3</th>\n",
              "      <td>08</td>\n",
              "      <td>83.70</td>\n",
              "      <td>83.17</td>\n",
              "      <td>30.0</td>\n",
              "      <td>63.15</td>\n",
              "      <td>48.89</td>\n",
              "      <td>None</td>\n",
              "    </tr>\n",
              "    <tr>\n",
              "      <th>4</th>\n",
              "      <td>07</td>\n",
              "      <td>81.22</td>\n",
              "      <td>96.06</td>\n",
              "      <td>49.38</td>\n",
              "      <td>105.93</td>\n",
              "      <td>80.56</td>\n",
              "      <td>None</td>\n",
              "    </tr>\n",
              "  </tbody>\n",
              "</table>\n",
              "</div>\n",
              "      <button class=\"colab-df-convert\" onclick=\"convertToInteractive('df-05107cc3-cee8-40e2-b710-639838d73ed6')\"\n",
              "              title=\"Convert this dataframe to an interactive table.\"\n",
              "              style=\"display:none;\">\n",
              "        \n",
              "  <svg xmlns=\"http://www.w3.org/2000/svg\" height=\"24px\"viewBox=\"0 0 24 24\"\n",
              "       width=\"24px\">\n",
              "    <path d=\"M0 0h24v24H0V0z\" fill=\"none\"/>\n",
              "    <path d=\"M18.56 5.44l.94 2.06.94-2.06 2.06-.94-2.06-.94-.94-2.06-.94 2.06-2.06.94zm-11 1L8.5 8.5l.94-2.06 2.06-.94-2.06-.94L8.5 2.5l-.94 2.06-2.06.94zm10 10l.94 2.06.94-2.06 2.06-.94-2.06-.94-.94-2.06-.94 2.06-2.06.94z\"/><path d=\"M17.41 7.96l-1.37-1.37c-.4-.4-.92-.59-1.43-.59-.52 0-1.04.2-1.43.59L10.3 9.45l-7.72 7.72c-.78.78-.78 2.05 0 2.83L4 21.41c.39.39.9.59 1.41.59.51 0 1.02-.2 1.41-.59l7.78-7.78 2.81-2.81c.8-.78.8-2.07 0-2.86zM5.41 20L4 18.59l7.72-7.72 1.47 1.35L5.41 20z\"/>\n",
              "  </svg>\n",
              "      </button>\n",
              "      \n",
              "  <style>\n",
              "    .colab-df-container {\n",
              "      display:flex;\n",
              "      flex-wrap:wrap;\n",
              "      gap: 12px;\n",
              "    }\n",
              "\n",
              "    .colab-df-convert {\n",
              "      background-color: #E8F0FE;\n",
              "      border: none;\n",
              "      border-radius: 50%;\n",
              "      cursor: pointer;\n",
              "      display: none;\n",
              "      fill: #1967D2;\n",
              "      height: 32px;\n",
              "      padding: 0 0 0 0;\n",
              "      width: 32px;\n",
              "    }\n",
              "\n",
              "    .colab-df-convert:hover {\n",
              "      background-color: #E2EBFA;\n",
              "      box-shadow: 0px 1px 2px rgba(60, 64, 67, 0.3), 0px 1px 3px 1px rgba(60, 64, 67, 0.15);\n",
              "      fill: #174EA6;\n",
              "    }\n",
              "\n",
              "    [theme=dark] .colab-df-convert {\n",
              "      background-color: #3B4455;\n",
              "      fill: #D2E3FC;\n",
              "    }\n",
              "\n",
              "    [theme=dark] .colab-df-convert:hover {\n",
              "      background-color: #434B5C;\n",
              "      box-shadow: 0px 1px 3px 1px rgba(0, 0, 0, 0.15);\n",
              "      filter: drop-shadow(0px 1px 2px rgba(0, 0, 0, 0.3));\n",
              "      fill: #FFFFFF;\n",
              "    }\n",
              "  </style>\n",
              "\n",
              "      <script>\n",
              "        const buttonEl =\n",
              "          document.querySelector('#df-05107cc3-cee8-40e2-b710-639838d73ed6 button.colab-df-convert');\n",
              "        buttonEl.style.display =\n",
              "          google.colab.kernel.accessAllowed ? 'block' : 'none';\n",
              "\n",
              "        async function convertToInteractive(key) {\n",
              "          const element = document.querySelector('#df-05107cc3-cee8-40e2-b710-639838d73ed6');\n",
              "          const dataTable =\n",
              "            await google.colab.kernel.invokeFunction('convertToInteractive',\n",
              "                                                     [key], {});\n",
              "          if (!dataTable) return;\n",
              "\n",
              "          const docLinkHtml = 'Like what you see? Visit the ' +\n",
              "            '<a target=\"_blank\" href=https://colab.research.google.com/notebooks/data_table.ipynb>data table notebook</a>'\n",
              "            + ' to learn more about interactive tables.';\n",
              "          element.innerHTML = '';\n",
              "          dataTable['output_type'] = 'display_data';\n",
              "          await google.colab.output.renderOutput(dataTable, element);\n",
              "          const docLink = document.createElement('div');\n",
              "          docLink.innerHTML = docLinkHtml;\n",
              "          element.appendChild(docLink);\n",
              "        }\n",
              "      </script>\n",
              "    </div>\n",
              "  </div>\n",
              "  "
            ],
            "text/plain": [
              "0  Prefix  Assignment  Tutorial  Midterm  TakeHome  Final   NaN\n",
              "0  Prefix  Assignment  Tutorial  Midterm  TakeHome  Final  None\n",
              "1      05       57.14     34.09    64.38     51.48  52.50  None\n",
              "2      08       95.05    105.49    67.50     99.07  68.33  None\n",
              "3      08       83.70     83.17     30.0     63.15  48.89  None\n",
              "4      07       81.22     96.06    49.38    105.93  80.56  None"
            ]
          },
          "metadata": {},
          "execution_count": 4
        }
      ]
    },
    {
      "cell_type": "code",
      "source": [
        "df.columns"
      ],
      "metadata": {
        "colab": {
          "base_uri": "https://localhost:8080/"
        },
        "id": "Fz-gOMJVLfaA",
        "outputId": "b334c800-4a53-46d0-c78d-3a480afcb6e3"
      },
      "execution_count": 5,
      "outputs": [
        {
          "output_type": "execute_result",
          "data": {
            "text/plain": [
              "Index(['Prefix', 'Assignment', 'Tutorial', 'Midterm', 'TakeHome', 'Final',\n",
              "       None],\n",
              "      dtype='object', name=0)"
            ]
          },
          "metadata": {},
          "execution_count": 5
        }
      ]
    },
    {
      "cell_type": "code",
      "source": [
        "#header_row = df.iloc[0]\n",
        "#df.columns = header_row"
      ],
      "metadata": {
        "id": "KrSPQfGXTmpP"
      },
      "execution_count": null,
      "outputs": []
    },
    {
      "cell_type": "code",
      "source": [
        "header_row = df.iloc[0]\n",
        "df = pd.DataFrame(df.values[1:], columns=header_row)\n",
        "df.head()"
      ],
      "metadata": {
        "colab": {
          "base_uri": "https://localhost:8080/",
          "height": 206
        },
        "id": "N8oFqIM3Lns1",
        "outputId": "7268a556-b55e-4fd1-dac1-ff9b45e7bbfb"
      },
      "execution_count": 6,
      "outputs": [
        {
          "output_type": "execute_result",
          "data": {
            "text/html": [
              "\n",
              "  <div id=\"df-8a844ef0-1f65-4c26-bd5c-c46c895af806\">\n",
              "    <div class=\"colab-df-container\">\n",
              "      <div>\n",
              "<style scoped>\n",
              "    .dataframe tbody tr th:only-of-type {\n",
              "        vertical-align: middle;\n",
              "    }\n",
              "\n",
              "    .dataframe tbody tr th {\n",
              "        vertical-align: top;\n",
              "    }\n",
              "\n",
              "    .dataframe thead th {\n",
              "        text-align: right;\n",
              "    }\n",
              "</style>\n",
              "<table border=\"1\" class=\"dataframe\">\n",
              "  <thead>\n",
              "    <tr style=\"text-align: right;\">\n",
              "      <th></th>\n",
              "      <th>Prefix</th>\n",
              "      <th>Assignment</th>\n",
              "      <th>Tutorial</th>\n",
              "      <th>Midterm</th>\n",
              "      <th>TakeHome</th>\n",
              "      <th>Final</th>\n",
              "      <th>NaN</th>\n",
              "    </tr>\n",
              "  </thead>\n",
              "  <tbody>\n",
              "    <tr>\n",
              "      <th>0</th>\n",
              "      <td>05</td>\n",
              "      <td>57.14</td>\n",
              "      <td>34.09</td>\n",
              "      <td>64.38</td>\n",
              "      <td>51.48</td>\n",
              "      <td>52.50</td>\n",
              "      <td>None</td>\n",
              "    </tr>\n",
              "    <tr>\n",
              "      <th>1</th>\n",
              "      <td>08</td>\n",
              "      <td>95.05</td>\n",
              "      <td>105.49</td>\n",
              "      <td>67.50</td>\n",
              "      <td>99.07</td>\n",
              "      <td>68.33</td>\n",
              "      <td>None</td>\n",
              "    </tr>\n",
              "    <tr>\n",
              "      <th>2</th>\n",
              "      <td>08</td>\n",
              "      <td>83.70</td>\n",
              "      <td>83.17</td>\n",
              "      <td>30.0</td>\n",
              "      <td>63.15</td>\n",
              "      <td>48.89</td>\n",
              "      <td>None</td>\n",
              "    </tr>\n",
              "    <tr>\n",
              "      <th>3</th>\n",
              "      <td>07</td>\n",
              "      <td>81.22</td>\n",
              "      <td>96.06</td>\n",
              "      <td>49.38</td>\n",
              "      <td>105.93</td>\n",
              "      <td>80.56</td>\n",
              "      <td>None</td>\n",
              "    </tr>\n",
              "    <tr>\n",
              "      <th>4</th>\n",
              "      <td>08</td>\n",
              "      <td>91.32</td>\n",
              "      <td>93.64</td>\n",
              "      <td>95.0</td>\n",
              "      <td>107.41</td>\n",
              "      <td>73.89</td>\n",
              "      <td>None</td>\n",
              "    </tr>\n",
              "  </tbody>\n",
              "</table>\n",
              "</div>\n",
              "      <button class=\"colab-df-convert\" onclick=\"convertToInteractive('df-8a844ef0-1f65-4c26-bd5c-c46c895af806')\"\n",
              "              title=\"Convert this dataframe to an interactive table.\"\n",
              "              style=\"display:none;\">\n",
              "        \n",
              "  <svg xmlns=\"http://www.w3.org/2000/svg\" height=\"24px\"viewBox=\"0 0 24 24\"\n",
              "       width=\"24px\">\n",
              "    <path d=\"M0 0h24v24H0V0z\" fill=\"none\"/>\n",
              "    <path d=\"M18.56 5.44l.94 2.06.94-2.06 2.06-.94-2.06-.94-.94-2.06-.94 2.06-2.06.94zm-11 1L8.5 8.5l.94-2.06 2.06-.94-2.06-.94L8.5 2.5l-.94 2.06-2.06.94zm10 10l.94 2.06.94-2.06 2.06-.94-2.06-.94-.94-2.06-.94 2.06-2.06.94z\"/><path d=\"M17.41 7.96l-1.37-1.37c-.4-.4-.92-.59-1.43-.59-.52 0-1.04.2-1.43.59L10.3 9.45l-7.72 7.72c-.78.78-.78 2.05 0 2.83L4 21.41c.39.39.9.59 1.41.59.51 0 1.02-.2 1.41-.59l7.78-7.78 2.81-2.81c.8-.78.8-2.07 0-2.86zM5.41 20L4 18.59l7.72-7.72 1.47 1.35L5.41 20z\"/>\n",
              "  </svg>\n",
              "      </button>\n",
              "      \n",
              "  <style>\n",
              "    .colab-df-container {\n",
              "      display:flex;\n",
              "      flex-wrap:wrap;\n",
              "      gap: 12px;\n",
              "    }\n",
              "\n",
              "    .colab-df-convert {\n",
              "      background-color: #E8F0FE;\n",
              "      border: none;\n",
              "      border-radius: 50%;\n",
              "      cursor: pointer;\n",
              "      display: none;\n",
              "      fill: #1967D2;\n",
              "      height: 32px;\n",
              "      padding: 0 0 0 0;\n",
              "      width: 32px;\n",
              "    }\n",
              "\n",
              "    .colab-df-convert:hover {\n",
              "      background-color: #E2EBFA;\n",
              "      box-shadow: 0px 1px 2px rgba(60, 64, 67, 0.3), 0px 1px 3px 1px rgba(60, 64, 67, 0.15);\n",
              "      fill: #174EA6;\n",
              "    }\n",
              "\n",
              "    [theme=dark] .colab-df-convert {\n",
              "      background-color: #3B4455;\n",
              "      fill: #D2E3FC;\n",
              "    }\n",
              "\n",
              "    [theme=dark] .colab-df-convert:hover {\n",
              "      background-color: #434B5C;\n",
              "      box-shadow: 0px 1px 3px 1px rgba(0, 0, 0, 0.15);\n",
              "      filter: drop-shadow(0px 1px 2px rgba(0, 0, 0, 0.3));\n",
              "      fill: #FFFFFF;\n",
              "    }\n",
              "  </style>\n",
              "\n",
              "      <script>\n",
              "        const buttonEl =\n",
              "          document.querySelector('#df-8a844ef0-1f65-4c26-bd5c-c46c895af806 button.colab-df-convert');\n",
              "        buttonEl.style.display =\n",
              "          google.colab.kernel.accessAllowed ? 'block' : 'none';\n",
              "\n",
              "        async function convertToInteractive(key) {\n",
              "          const element = document.querySelector('#df-8a844ef0-1f65-4c26-bd5c-c46c895af806');\n",
              "          const dataTable =\n",
              "            await google.colab.kernel.invokeFunction('convertToInteractive',\n",
              "                                                     [key], {});\n",
              "          if (!dataTable) return;\n",
              "\n",
              "          const docLinkHtml = 'Like what you see? Visit the ' +\n",
              "            '<a target=\"_blank\" href=https://colab.research.google.com/notebooks/data_table.ipynb>data table notebook</a>'\n",
              "            + ' to learn more about interactive tables.';\n",
              "          element.innerHTML = '';\n",
              "          dataTable['output_type'] = 'display_data';\n",
              "          await google.colab.output.renderOutput(dataTable, element);\n",
              "          const docLink = document.createElement('div');\n",
              "          docLink.innerHTML = docLinkHtml;\n",
              "          element.appendChild(docLink);\n",
              "        }\n",
              "      </script>\n",
              "    </div>\n",
              "  </div>\n",
              "  "
            ],
            "text/plain": [
              "0 Prefix Assignment Tutorial Midterm TakeHome  Final   NaN\n",
              "0     05      57.14    34.09   64.38    51.48  52.50  None\n",
              "1     08      95.05   105.49   67.50    99.07  68.33  None\n",
              "2     08      83.70    83.17    30.0    63.15  48.89  None\n",
              "3     07      81.22    96.06   49.38   105.93  80.56  None\n",
              "4     08      91.32    93.64    95.0   107.41  73.89  None"
            ]
          },
          "metadata": {},
          "execution_count": 6
        }
      ]
    },
    {
      "cell_type": "code",
      "source": [
        "df=df[df.columns.dropna()] #dropping Null Values"
      ],
      "metadata": {
        "id": "8NTB_OdULPFp"
      },
      "execution_count": 7,
      "outputs": []
    },
    {
      "cell_type": "code",
      "source": [
        "df.head()"
      ],
      "metadata": {
        "colab": {
          "base_uri": "https://localhost:8080/",
          "height": 206
        },
        "id": "1x3YvS9mLPA6",
        "outputId": "8950f35d-c9d2-4a9a-ad9f-d65d88139edc"
      },
      "execution_count": 8,
      "outputs": [
        {
          "output_type": "execute_result",
          "data": {
            "text/html": [
              "\n",
              "  <div id=\"df-71e9a8a0-67f7-498d-9891-5ded69d510f1\">\n",
              "    <div class=\"colab-df-container\">\n",
              "      <div>\n",
              "<style scoped>\n",
              "    .dataframe tbody tr th:only-of-type {\n",
              "        vertical-align: middle;\n",
              "    }\n",
              "\n",
              "    .dataframe tbody tr th {\n",
              "        vertical-align: top;\n",
              "    }\n",
              "\n",
              "    .dataframe thead th {\n",
              "        text-align: right;\n",
              "    }\n",
              "</style>\n",
              "<table border=\"1\" class=\"dataframe\">\n",
              "  <thead>\n",
              "    <tr style=\"text-align: right;\">\n",
              "      <th></th>\n",
              "      <th>Prefix</th>\n",
              "      <th>Assignment</th>\n",
              "      <th>Tutorial</th>\n",
              "      <th>Midterm</th>\n",
              "      <th>TakeHome</th>\n",
              "      <th>Final</th>\n",
              "    </tr>\n",
              "  </thead>\n",
              "  <tbody>\n",
              "    <tr>\n",
              "      <th>0</th>\n",
              "      <td>05</td>\n",
              "      <td>57.14</td>\n",
              "      <td>34.09</td>\n",
              "      <td>64.38</td>\n",
              "      <td>51.48</td>\n",
              "      <td>52.50</td>\n",
              "    </tr>\n",
              "    <tr>\n",
              "      <th>1</th>\n",
              "      <td>08</td>\n",
              "      <td>95.05</td>\n",
              "      <td>105.49</td>\n",
              "      <td>67.50</td>\n",
              "      <td>99.07</td>\n",
              "      <td>68.33</td>\n",
              "    </tr>\n",
              "    <tr>\n",
              "      <th>2</th>\n",
              "      <td>08</td>\n",
              "      <td>83.70</td>\n",
              "      <td>83.17</td>\n",
              "      <td>30.0</td>\n",
              "      <td>63.15</td>\n",
              "      <td>48.89</td>\n",
              "    </tr>\n",
              "    <tr>\n",
              "      <th>3</th>\n",
              "      <td>07</td>\n",
              "      <td>81.22</td>\n",
              "      <td>96.06</td>\n",
              "      <td>49.38</td>\n",
              "      <td>105.93</td>\n",
              "      <td>80.56</td>\n",
              "    </tr>\n",
              "    <tr>\n",
              "      <th>4</th>\n",
              "      <td>08</td>\n",
              "      <td>91.32</td>\n",
              "      <td>93.64</td>\n",
              "      <td>95.0</td>\n",
              "      <td>107.41</td>\n",
              "      <td>73.89</td>\n",
              "    </tr>\n",
              "  </tbody>\n",
              "</table>\n",
              "</div>\n",
              "      <button class=\"colab-df-convert\" onclick=\"convertToInteractive('df-71e9a8a0-67f7-498d-9891-5ded69d510f1')\"\n",
              "              title=\"Convert this dataframe to an interactive table.\"\n",
              "              style=\"display:none;\">\n",
              "        \n",
              "  <svg xmlns=\"http://www.w3.org/2000/svg\" height=\"24px\"viewBox=\"0 0 24 24\"\n",
              "       width=\"24px\">\n",
              "    <path d=\"M0 0h24v24H0V0z\" fill=\"none\"/>\n",
              "    <path d=\"M18.56 5.44l.94 2.06.94-2.06 2.06-.94-2.06-.94-.94-2.06-.94 2.06-2.06.94zm-11 1L8.5 8.5l.94-2.06 2.06-.94-2.06-.94L8.5 2.5l-.94 2.06-2.06.94zm10 10l.94 2.06.94-2.06 2.06-.94-2.06-.94-.94-2.06-.94 2.06-2.06.94z\"/><path d=\"M17.41 7.96l-1.37-1.37c-.4-.4-.92-.59-1.43-.59-.52 0-1.04.2-1.43.59L10.3 9.45l-7.72 7.72c-.78.78-.78 2.05 0 2.83L4 21.41c.39.39.9.59 1.41.59.51 0 1.02-.2 1.41-.59l7.78-7.78 2.81-2.81c.8-.78.8-2.07 0-2.86zM5.41 20L4 18.59l7.72-7.72 1.47 1.35L5.41 20z\"/>\n",
              "  </svg>\n",
              "      </button>\n",
              "      \n",
              "  <style>\n",
              "    .colab-df-container {\n",
              "      display:flex;\n",
              "      flex-wrap:wrap;\n",
              "      gap: 12px;\n",
              "    }\n",
              "\n",
              "    .colab-df-convert {\n",
              "      background-color: #E8F0FE;\n",
              "      border: none;\n",
              "      border-radius: 50%;\n",
              "      cursor: pointer;\n",
              "      display: none;\n",
              "      fill: #1967D2;\n",
              "      height: 32px;\n",
              "      padding: 0 0 0 0;\n",
              "      width: 32px;\n",
              "    }\n",
              "\n",
              "    .colab-df-convert:hover {\n",
              "      background-color: #E2EBFA;\n",
              "      box-shadow: 0px 1px 2px rgba(60, 64, 67, 0.3), 0px 1px 3px 1px rgba(60, 64, 67, 0.15);\n",
              "      fill: #174EA6;\n",
              "    }\n",
              "\n",
              "    [theme=dark] .colab-df-convert {\n",
              "      background-color: #3B4455;\n",
              "      fill: #D2E3FC;\n",
              "    }\n",
              "\n",
              "    [theme=dark] .colab-df-convert:hover {\n",
              "      background-color: #434B5C;\n",
              "      box-shadow: 0px 1px 3px 1px rgba(0, 0, 0, 0.15);\n",
              "      filter: drop-shadow(0px 1px 2px rgba(0, 0, 0, 0.3));\n",
              "      fill: #FFFFFF;\n",
              "    }\n",
              "  </style>\n",
              "\n",
              "      <script>\n",
              "        const buttonEl =\n",
              "          document.querySelector('#df-71e9a8a0-67f7-498d-9891-5ded69d510f1 button.colab-df-convert');\n",
              "        buttonEl.style.display =\n",
              "          google.colab.kernel.accessAllowed ? 'block' : 'none';\n",
              "\n",
              "        async function convertToInteractive(key) {\n",
              "          const element = document.querySelector('#df-71e9a8a0-67f7-498d-9891-5ded69d510f1');\n",
              "          const dataTable =\n",
              "            await google.colab.kernel.invokeFunction('convertToInteractive',\n",
              "                                                     [key], {});\n",
              "          if (!dataTable) return;\n",
              "\n",
              "          const docLinkHtml = 'Like what you see? Visit the ' +\n",
              "            '<a target=\"_blank\" href=https://colab.research.google.com/notebooks/data_table.ipynb>data table notebook</a>'\n",
              "            + ' to learn more about interactive tables.';\n",
              "          element.innerHTML = '';\n",
              "          dataTable['output_type'] = 'display_data';\n",
              "          await google.colab.output.renderOutput(dataTable, element);\n",
              "          const docLink = document.createElement('div');\n",
              "          docLink.innerHTML = docLinkHtml;\n",
              "          element.appendChild(docLink);\n",
              "        }\n",
              "      </script>\n",
              "    </div>\n",
              "  </div>\n",
              "  "
            ],
            "text/plain": [
              "0 Prefix Assignment Tutorial Midterm TakeHome  Final\n",
              "0     05      57.14    34.09   64.38    51.48  52.50\n",
              "1     08      95.05   105.49   67.50    99.07  68.33\n",
              "2     08      83.70    83.17    30.0    63.15  48.89\n",
              "3     07      81.22    96.06   49.38   105.93  80.56\n",
              "4     08      91.32    93.64    95.0   107.41  73.89"
            ]
          },
          "metadata": {},
          "execution_count": 8
        }
      ]
    },
    {
      "cell_type": "code",
      "source": [
        "df.info()"
      ],
      "metadata": {
        "colab": {
          "base_uri": "https://localhost:8080/"
        },
        "id": "Tx6Z-d1vJ_He",
        "outputId": "46c2a4ac-6aed-4be2-a7f9-bfbef9ad6d2d"
      },
      "execution_count": 9,
      "outputs": [
        {
          "output_type": "stream",
          "name": "stdout",
          "text": [
            "<class 'pandas.core.frame.DataFrame'>\n",
            "RangeIndex: 99 entries, 0 to 98\n",
            "Data columns (total 6 columns):\n",
            " #   Column      Non-Null Count  Dtype \n",
            "---  ------      --------------  ----- \n",
            " 0   Prefix      99 non-null     object\n",
            " 1   Assignment  99 non-null     object\n",
            " 2   Tutorial    99 non-null     object\n",
            " 3   Midterm     99 non-null     object\n",
            " 4   TakeHome    99 non-null     object\n",
            " 5   Final       99 non-null     object\n",
            "dtypes: object(6)\n",
            "memory usage: 4.8+ KB\n"
          ]
        }
      ]
    },
    {
      "cell_type": "markdown",
      "source": [
        "As we found that all the columns are type of object but must be of numeric according to dataset.\n",
        " So we will convert the data type object to numeric."
      ],
      "metadata": {
        "id": "nThnYfANptHU"
      }
    },
    {
      "cell_type": "code",
      "source": [
        "df['Prefix'] = pd.to_numeric(df['Prefix'])\n",
        "df['Assignment'] = pd.to_numeric(df['Assignment'])\n",
        "df['Tutorial'] = pd.to_numeric(df['Tutorial'])\n",
        "df['Midterm'] = pd.to_numeric(df['Midterm'])\n",
        "df['TakeHome'] = pd.to_numeric(df['TakeHome'])\n",
        "df['Final'] = pd.to_numeric(df['Final'])"
      ],
      "metadata": {
        "id": "EQ5PcT6rSrXG"
      },
      "execution_count": 10,
      "outputs": []
    },
    {
      "cell_type": "code",
      "source": [
        "df.info()"
      ],
      "metadata": {
        "colab": {
          "base_uri": "https://localhost:8080/"
        },
        "id": "-daYP6DwTLoj",
        "outputId": "868a1908-b305-4efb-a6c8-950edebee48a"
      },
      "execution_count": 11,
      "outputs": [
        {
          "output_type": "stream",
          "name": "stdout",
          "text": [
            "<class 'pandas.core.frame.DataFrame'>\n",
            "RangeIndex: 99 entries, 0 to 98\n",
            "Data columns (total 6 columns):\n",
            " #   Column      Non-Null Count  Dtype  \n",
            "---  ------      --------------  -----  \n",
            " 0   Prefix      99 non-null     int64  \n",
            " 1   Assignment  99 non-null     float64\n",
            " 2   Tutorial    99 non-null     float64\n",
            " 3   Midterm     99 non-null     float64\n",
            " 4   TakeHome    98 non-null     float64\n",
            " 5   Final       96 non-null     float64\n",
            "dtypes: float64(5), int64(1)\n",
            "memory usage: 4.8 KB\n"
          ]
        }
      ]
    },
    {
      "cell_type": "markdown",
      "source": [
        "Checking if dataset contains duplicate values..?"
      ],
      "metadata": {
        "id": "HEfVC4xxqI77"
      }
    },
    {
      "cell_type": "code",
      "source": [
        "dups = df.duplicated()\n",
        "print('Number of duplicate rows = %d' % (dups.sum()))"
      ],
      "metadata": {
        "colab": {
          "base_uri": "https://localhost:8080/"
        },
        "id": "Lk5UhSrsqH3p",
        "outputId": "8019a1ea-14f7-4f57-f81e-4ccd6cd63455"
      },
      "execution_count": 12,
      "outputs": [
        {
          "output_type": "stream",
          "name": "stdout",
          "text": [
            "Number of duplicate rows = 0\n"
          ]
        }
      ]
    },
    {
      "cell_type": "markdown",
      "source": [
        "There are no duplicates"
      ],
      "metadata": {
        "id": "E4LGVAO1qdqu"
      }
    },
    {
      "cell_type": "code",
      "source": [
        "#Shape of Dataset\n",
        "print(\"Number of Instances: \",df.shape[0])\n",
        "print(\"Number of Attributes: \", df.shape[1])"
      ],
      "metadata": {
        "colab": {
          "base_uri": "https://localhost:8080/"
        },
        "id": "dqsPe-6leH4o",
        "outputId": "4afce9b4-c89d-42be-e45e-97c8e464eb91"
      },
      "execution_count": 13,
      "outputs": [
        {
          "output_type": "stream",
          "name": "stdout",
          "text": [
            "Number of Instances:  99\n",
            "Number of Attributes:  6\n"
          ]
        }
      ]
    },
    {
      "cell_type": "markdown",
      "source": [
        "Above code shows that dataset is of shape [99x6].\n",
        "it means, there are 99 rows and 6 columns"
      ],
      "metadata": {
        "id": "ZaQRUJL9qkCq"
      }
    },
    {
      "cell_type": "code",
      "source": [
        "df.describe()"
      ],
      "metadata": {
        "colab": {
          "base_uri": "https://localhost:8080/",
          "height": 300
        },
        "id": "kj9sKEic67W1",
        "outputId": "2f269803-1c53-4453-f154-31845ab19d76"
      },
      "execution_count": 14,
      "outputs": [
        {
          "output_type": "execute_result",
          "data": {
            "text/html": [
              "\n",
              "  <div id=\"df-5252b8c9-f3a2-4fec-b89c-9d536a78acb5\">\n",
              "    <div class=\"colab-df-container\">\n",
              "      <div>\n",
              "<style scoped>\n",
              "    .dataframe tbody tr th:only-of-type {\n",
              "        vertical-align: middle;\n",
              "    }\n",
              "\n",
              "    .dataframe tbody tr th {\n",
              "        vertical-align: top;\n",
              "    }\n",
              "\n",
              "    .dataframe thead th {\n",
              "        text-align: right;\n",
              "    }\n",
              "</style>\n",
              "<table border=\"1\" class=\"dataframe\">\n",
              "  <thead>\n",
              "    <tr style=\"text-align: right;\">\n",
              "      <th></th>\n",
              "      <th>Prefix</th>\n",
              "      <th>Assignment</th>\n",
              "      <th>Tutorial</th>\n",
              "      <th>Midterm</th>\n",
              "      <th>TakeHome</th>\n",
              "      <th>Final</th>\n",
              "    </tr>\n",
              "  </thead>\n",
              "  <tbody>\n",
              "    <tr>\n",
              "      <th>count</th>\n",
              "      <td>99.000000</td>\n",
              "      <td>99.000000</td>\n",
              "      <td>99.000000</td>\n",
              "      <td>99.000000</td>\n",
              "      <td>98.000000</td>\n",
              "      <td>96.000000</td>\n",
              "    </tr>\n",
              "    <tr>\n",
              "      <th>mean</th>\n",
              "      <td>7.313131</td>\n",
              "      <td>85.491717</td>\n",
              "      <td>89.731111</td>\n",
              "      <td>68.049495</td>\n",
              "      <td>80.828469</td>\n",
              "      <td>68.414375</td>\n",
              "    </tr>\n",
              "    <tr>\n",
              "      <th>std</th>\n",
              "      <td>0.932918</td>\n",
              "      <td>12.597694</td>\n",
              "      <td>15.071556</td>\n",
              "      <td>19.376074</td>\n",
              "      <td>23.808806</td>\n",
              "      <td>18.801087</td>\n",
              "    </tr>\n",
              "    <tr>\n",
              "      <th>min</th>\n",
              "      <td>4.000000</td>\n",
              "      <td>28.140000</td>\n",
              "      <td>34.090000</td>\n",
              "      <td>28.120000</td>\n",
              "      <td>16.910000</td>\n",
              "      <td>28.060000</td>\n",
              "    </tr>\n",
              "    <tr>\n",
              "      <th>25%</th>\n",
              "      <td>7.000000</td>\n",
              "      <td>80.875000</td>\n",
              "      <td>83.350000</td>\n",
              "      <td>52.810000</td>\n",
              "      <td>66.015000</td>\n",
              "      <td>53.122500</td>\n",
              "    </tr>\n",
              "    <tr>\n",
              "      <th>50%</th>\n",
              "      <td>8.000000</td>\n",
              "      <td>89.940000</td>\n",
              "      <td>93.100000</td>\n",
              "      <td>69.380000</td>\n",
              "      <td>87.960000</td>\n",
              "      <td>66.250000</td>\n",
              "    </tr>\n",
              "    <tr>\n",
              "      <th>75%</th>\n",
              "      <td>8.000000</td>\n",
              "      <td>95.000000</td>\n",
              "      <td>100.550000</td>\n",
              "      <td>82.810000</td>\n",
              "      <td>98.747500</td>\n",
              "      <td>84.167500</td>\n",
              "    </tr>\n",
              "    <tr>\n",
              "      <th>max</th>\n",
              "      <td>8.000000</td>\n",
              "      <td>100.830000</td>\n",
              "      <td>112.580000</td>\n",
              "      <td>110.000000</td>\n",
              "      <td>108.890000</td>\n",
              "      <td>108.890000</td>\n",
              "    </tr>\n",
              "  </tbody>\n",
              "</table>\n",
              "</div>\n",
              "      <button class=\"colab-df-convert\" onclick=\"convertToInteractive('df-5252b8c9-f3a2-4fec-b89c-9d536a78acb5')\"\n",
              "              title=\"Convert this dataframe to an interactive table.\"\n",
              "              style=\"display:none;\">\n",
              "        \n",
              "  <svg xmlns=\"http://www.w3.org/2000/svg\" height=\"24px\"viewBox=\"0 0 24 24\"\n",
              "       width=\"24px\">\n",
              "    <path d=\"M0 0h24v24H0V0z\" fill=\"none\"/>\n",
              "    <path d=\"M18.56 5.44l.94 2.06.94-2.06 2.06-.94-2.06-.94-.94-2.06-.94 2.06-2.06.94zm-11 1L8.5 8.5l.94-2.06 2.06-.94-2.06-.94L8.5 2.5l-.94 2.06-2.06.94zm10 10l.94 2.06.94-2.06 2.06-.94-2.06-.94-.94-2.06-.94 2.06-2.06.94z\"/><path d=\"M17.41 7.96l-1.37-1.37c-.4-.4-.92-.59-1.43-.59-.52 0-1.04.2-1.43.59L10.3 9.45l-7.72 7.72c-.78.78-.78 2.05 0 2.83L4 21.41c.39.39.9.59 1.41.59.51 0 1.02-.2 1.41-.59l7.78-7.78 2.81-2.81c.8-.78.8-2.07 0-2.86zM5.41 20L4 18.59l7.72-7.72 1.47 1.35L5.41 20z\"/>\n",
              "  </svg>\n",
              "      </button>\n",
              "      \n",
              "  <style>\n",
              "    .colab-df-container {\n",
              "      display:flex;\n",
              "      flex-wrap:wrap;\n",
              "      gap: 12px;\n",
              "    }\n",
              "\n",
              "    .colab-df-convert {\n",
              "      background-color: #E8F0FE;\n",
              "      border: none;\n",
              "      border-radius: 50%;\n",
              "      cursor: pointer;\n",
              "      display: none;\n",
              "      fill: #1967D2;\n",
              "      height: 32px;\n",
              "      padding: 0 0 0 0;\n",
              "      width: 32px;\n",
              "    }\n",
              "\n",
              "    .colab-df-convert:hover {\n",
              "      background-color: #E2EBFA;\n",
              "      box-shadow: 0px 1px 2px rgba(60, 64, 67, 0.3), 0px 1px 3px 1px rgba(60, 64, 67, 0.15);\n",
              "      fill: #174EA6;\n",
              "    }\n",
              "\n",
              "    [theme=dark] .colab-df-convert {\n",
              "      background-color: #3B4455;\n",
              "      fill: #D2E3FC;\n",
              "    }\n",
              "\n",
              "    [theme=dark] .colab-df-convert:hover {\n",
              "      background-color: #434B5C;\n",
              "      box-shadow: 0px 1px 3px 1px rgba(0, 0, 0, 0.15);\n",
              "      filter: drop-shadow(0px 1px 2px rgba(0, 0, 0, 0.3));\n",
              "      fill: #FFFFFF;\n",
              "    }\n",
              "  </style>\n",
              "\n",
              "      <script>\n",
              "        const buttonEl =\n",
              "          document.querySelector('#df-5252b8c9-f3a2-4fec-b89c-9d536a78acb5 button.colab-df-convert');\n",
              "        buttonEl.style.display =\n",
              "          google.colab.kernel.accessAllowed ? 'block' : 'none';\n",
              "\n",
              "        async function convertToInteractive(key) {\n",
              "          const element = document.querySelector('#df-5252b8c9-f3a2-4fec-b89c-9d536a78acb5');\n",
              "          const dataTable =\n",
              "            await google.colab.kernel.invokeFunction('convertToInteractive',\n",
              "                                                     [key], {});\n",
              "          if (!dataTable) return;\n",
              "\n",
              "          const docLinkHtml = 'Like what you see? Visit the ' +\n",
              "            '<a target=\"_blank\" href=https://colab.research.google.com/notebooks/data_table.ipynb>data table notebook</a>'\n",
              "            + ' to learn more about interactive tables.';\n",
              "          element.innerHTML = '';\n",
              "          dataTable['output_type'] = 'display_data';\n",
              "          await google.colab.output.renderOutput(dataTable, element);\n",
              "          const docLink = document.createElement('div');\n",
              "          docLink.innerHTML = docLinkHtml;\n",
              "          element.appendChild(docLink);\n",
              "        }\n",
              "      </script>\n",
              "    </div>\n",
              "  </div>\n",
              "  "
            ],
            "text/plain": [
              "0         Prefix  Assignment    Tutorial     Midterm    TakeHome       Final\n",
              "count  99.000000   99.000000   99.000000   99.000000   98.000000   96.000000\n",
              "mean    7.313131   85.491717   89.731111   68.049495   80.828469   68.414375\n",
              "std     0.932918   12.597694   15.071556   19.376074   23.808806   18.801087\n",
              "min     4.000000   28.140000   34.090000   28.120000   16.910000   28.060000\n",
              "25%     7.000000   80.875000   83.350000   52.810000   66.015000   53.122500\n",
              "50%     8.000000   89.940000   93.100000   69.380000   87.960000   66.250000\n",
              "75%     8.000000   95.000000  100.550000   82.810000   98.747500   84.167500\n",
              "max     8.000000  100.830000  112.580000  110.000000  108.890000  108.890000"
            ]
          },
          "metadata": {},
          "execution_count": 14
        }
      ]
    },
    {
      "cell_type": "code",
      "source": [
        "print(\"No. of missing values: \")\n",
        "for col in df.columns:\n",
        "  print('\\t%s: %d' % (col,df[col].isna().sum()))"
      ],
      "metadata": {
        "colab": {
          "base_uri": "https://localhost:8080/"
        },
        "id": "R7pr79UBicft",
        "outputId": "a9a5590f-e710-455f-b25f-bb7eae81cf11"
      },
      "execution_count": 15,
      "outputs": [
        {
          "output_type": "stream",
          "name": "stdout",
          "text": [
            "No. of missing values: \n",
            "\tPrefix: 0\n",
            "\tAssignment: 0\n",
            "\tTutorial: 0\n",
            "\tMidterm: 0\n",
            "\tTakeHome: 1\n",
            "\tFinal: 3\n"
          ]
        }
      ]
    },
    {
      "cell_type": "code",
      "source": [
        "df['TakeHome'] = df['TakeHome'].fillna(df['TakeHome'].mean())"
      ],
      "metadata": {
        "id": "IDlgyE3sTgJm"
      },
      "execution_count": 16,
      "outputs": []
    },
    {
      "cell_type": "code",
      "source": [
        "df.Final = df.Final.fillna(df.Final.mean())"
      ],
      "metadata": {
        "id": "CCe_3WtpUDw1"
      },
      "execution_count": 17,
      "outputs": []
    },
    {
      "cell_type": "code",
      "source": [
        "df.TakeHome.isna().sum()\n"
      ],
      "metadata": {
        "colab": {
          "base_uri": "https://localhost:8080/"
        },
        "id": "3qELu65kUcfn",
        "outputId": "bc408d78-fcc4-4458-bf69-2834b3444b48"
      },
      "execution_count": 18,
      "outputs": [
        {
          "output_type": "execute_result",
          "data": {
            "text/plain": [
              "0"
            ]
          },
          "metadata": {},
          "execution_count": 18
        }
      ]
    },
    {
      "cell_type": "code",
      "source": [
        "df.Final.isna().sum()"
      ],
      "metadata": {
        "colab": {
          "base_uri": "https://localhost:8080/"
        },
        "id": "M4j9bHq4UnGz",
        "outputId": "0d91f939-0fb2-4ed0-84c3-fa4f3afc52e1"
      },
      "execution_count": 19,
      "outputs": [
        {
          "output_type": "execute_result",
          "data": {
            "text/plain": [
              "0"
            ]
          },
          "metadata": {},
          "execution_count": 19
        }
      ]
    },
    {
      "cell_type": "markdown",
      "source": [
        "# Outliers"
      ],
      "metadata": {
        "id": "PZKMl46QUmxU"
      }
    },
    {
      "cell_type": "code",
      "source": [
        "df.head"
      ],
      "metadata": {
        "colab": {
          "base_uri": "https://localhost:8080/"
        },
        "id": "dbdlJGdtv59r",
        "outputId": "6547a32b-30d2-48f6-b64b-0daccaa11cc7"
      },
      "execution_count": 20,
      "outputs": [
        {
          "output_type": "execute_result",
          "data": {
            "text/plain": [
              "<bound method NDFrame.head of 0   Prefix  Assignment  Tutorial  Midterm  TakeHome  Final\n",
              "0        5       57.14     34.09    64.38     51.48  52.50\n",
              "1        8       95.05    105.49    67.50     99.07  68.33\n",
              "2        8       83.70     83.17    30.00     63.15  48.89\n",
              "3        7       81.22     96.06    49.38    105.93  80.56\n",
              "4        8       91.32     93.64    95.00    107.41  73.89\n",
              "..     ...         ...       ...      ...       ...    ...\n",
              "94       8       96.73    103.71    45.00     93.52  61.94\n",
              "95       7       85.34     80.54    41.25     93.70  39.72\n",
              "96       8       89.94    102.77    87.50     90.74  87.78\n",
              "97       7       95.60     76.13    66.25     99.81  85.56\n",
              "98       8       63.40     97.37    73.12     72.78  77.22\n",
              "\n",
              "[99 rows x 6 columns]>"
            ]
          },
          "metadata": {},
          "execution_count": 20
        }
      ]
    },
    {
      "cell_type": "code",
      "source": [
        "%matplotlib inline\n",
        "\n",
        "df.plot(kind ='box', figsize=(12,12), layout=(2,3), sharex = True, \n",
        "        subplots = True)"
      ],
      "metadata": {
        "colab": {
          "base_uri": "https://localhost:8080/",
          "height": 822
        },
        "id": "jFctUUAlQBgx",
        "outputId": "c820a288-39d6-4277-b516-bd0aa0997cb7"
      },
      "execution_count": 21,
      "outputs": [
        {
          "output_type": "execute_result",
          "data": {
            "text/plain": [
              "Prefix           AxesSubplot(0.125,0.536818;0.227941x0.343182)\n",
              "Assignment    AxesSubplot(0.398529,0.536818;0.227941x0.343182)\n",
              "Tutorial      AxesSubplot(0.672059,0.536818;0.227941x0.343182)\n",
              "Midterm             AxesSubplot(0.125,0.125;0.227941x0.343182)\n",
              "TakeHome         AxesSubplot(0.398529,0.125;0.227941x0.343182)\n",
              "Final            AxesSubplot(0.672059,0.125;0.227941x0.343182)\n",
              "dtype: object"
            ]
          },
          "metadata": {},
          "execution_count": 21
        },
        {
          "output_type": "display_data",
          "data": {
            "image/png": "[encoded data removed]",
            "text/plain": [
              "<Figure size 864x864 with 6 Axes>"
            ]
          },
          "metadata": {
            "needs_background": "light"
          }
        }
      ]
    },
    {
      "cell_type": "markdown",
      "source": [
        "# Z- Score\n",
        "Z-score is basically tells that how far a point is from mean.\n",
        "\n",
        "\n",
        "To discard the outliers, we can compute the Z-score for each attribute and remove those instances containing attributes with abnormally high or low Z-score (e.g., if Z > 3 or Z <= -3).\n",
        "\n",
        "Code:\n",
        "\n",
        "The following code shows the results of standardizing the columns of the data. Note that missing values (NaN) are not affected by the standardization process."
      ],
      "metadata": {
        "id": "9muD7U0aWBQf"
      }
    },
    {
      "cell_type": "code",
      "source": [
        "Z = (df-df.mean())/df.std()\n",
        "Z[0:5]"
      ],
      "metadata": {
        "colab": {
          "base_uri": "https://localhost:8080/",
          "height": 206
        },
        "id": "8mI-xiOpVOVI",
        "outputId": "6404d22c-eff5-4cfd-95dd-c5d2512e664a"
      },
      "execution_count": 23,
      "outputs": [
        {
          "output_type": "execute_result",
          "data": {
            "text/html": [
              "\n",
              "  <div id=\"df-527052ae-5bce-44ea-8dcd-fd56471c9fa2\">\n",
              "    <div class=\"colab-df-container\">\n",
              "      <div>\n",
              "<style scoped>\n",
              "    .dataframe tbody tr th:only-of-type {\n",
              "        vertical-align: middle;\n",
              "    }\n",
              "\n",
              "    .dataframe tbody tr th {\n",
              "        vertical-align: top;\n",
              "    }\n",
              "\n",
              "    .dataframe thead th {\n",
              "        text-align: right;\n",
              "    }\n",
              "</style>\n",
              "<table border=\"1\" class=\"dataframe\">\n",
              "  <thead>\n",
              "    <tr style=\"text-align: right;\">\n",
              "      <th></th>\n",
              "      <th>Prefix</th>\n",
              "      <th>Assignment</th>\n",
              "      <th>Tutorial</th>\n",
              "      <th>Midterm</th>\n",
              "      <th>TakeHome</th>\n",
              "      <th>Final</th>\n",
              "    </tr>\n",
              "  </thead>\n",
              "  <tbody>\n",
              "    <tr>\n",
              "      <th>0</th>\n",
              "      <td>-2.479458</td>\n",
              "      <td>-2.250548</td>\n",
              "      <td>-3.691796</td>\n",
              "      <td>-0.189383</td>\n",
              "      <td>-1.239011</td>\n",
              "      <td>-0.859722</td>\n",
              "    </tr>\n",
              "    <tr>\n",
              "      <th>1</th>\n",
              "      <td>0.736258</td>\n",
              "      <td>0.758733</td>\n",
              "      <td>1.045605</td>\n",
              "      <td>-0.028359</td>\n",
              "      <td>0.770107</td>\n",
              "      <td>-0.004558</td>\n",
              "    </tr>\n",
              "    <tr>\n",
              "      <th>2</th>\n",
              "      <td>0.736258</td>\n",
              "      <td>-0.142226</td>\n",
              "      <td>-0.435331</td>\n",
              "      <td>-1.963736</td>\n",
              "      <td>-0.746336</td>\n",
              "      <td>-1.054740</td>\n",
              "    </tr>\n",
              "    <tr>\n",
              "      <th>3</th>\n",
              "      <td>-0.335647</td>\n",
              "      <td>-0.339087</td>\n",
              "      <td>0.419923</td>\n",
              "      <td>-0.963533</td>\n",
              "      <td>1.059717</td>\n",
              "      <td>0.656127</td>\n",
              "    </tr>\n",
              "    <tr>\n",
              "      <th>4</th>\n",
              "      <td>0.736258</td>\n",
              "      <td>0.462647</td>\n",
              "      <td>0.259355</td>\n",
              "      <td>1.390917</td>\n",
              "      <td>1.122198</td>\n",
              "      <td>0.295803</td>\n",
              "    </tr>\n",
              "  </tbody>\n",
              "</table>\n",
              "</div>\n",
              "      <button class=\"colab-df-convert\" onclick=\"convertToInteractive('df-527052ae-5bce-44ea-8dcd-fd56471c9fa2')\"\n",
              "              title=\"Convert this dataframe to an interactive table.\"\n",
              "              style=\"display:none;\">\n",
              "        \n",
              "  <svg xmlns=\"http://www.w3.org/2000/svg\" height=\"24px\"viewBox=\"0 0 24 24\"\n",
              "       width=\"24px\">\n",
              "    <path d=\"M0 0h24v24H0V0z\" fill=\"none\"/>\n",
              "    <path d=\"M18.56 5.44l.94 2.06.94-2.06 2.06-.94-2.06-.94-.94-2.06-.94 2.06-2.06.94zm-11 1L8.5 8.5l.94-2.06 2.06-.94-2.06-.94L8.5 2.5l-.94 2.06-2.06.94zm10 10l.94 2.06.94-2.06 2.06-.94-2.06-.94-.94-2.06-.94 2.06-2.06.94z\"/><path d=\"M17.41 7.96l-1.37-1.37c-.4-.4-.92-.59-1.43-.59-.52 0-1.04.2-1.43.59L10.3 9.45l-7.72 7.72c-.78.78-.78 2.05 0 2.83L4 21.41c.39.39.9.59 1.41.59.51 0 1.02-.2 1.41-.59l7.78-7.78 2.81-2.81c.8-.78.8-2.07 0-2.86zM5.41 20L4 18.59l7.72-7.72 1.47 1.35L5.41 20z\"/>\n",
              "  </svg>\n",
              "      </button>\n",
              "      \n",
              "  <style>\n",
              "    .colab-df-container {\n",
              "      display:flex;\n",
              "      flex-wrap:wrap;\n",
              "      gap: 12px;\n",
              "    }\n",
              "\n",
              "    .colab-df-convert {\n",
              "      background-color: #E8F0FE;\n",
              "      border: none;\n",
              "      border-radius: 50%;\n",
              "      cursor: pointer;\n",
              "      display: none;\n",
              "      fill: #1967D2;\n",
              "      height: 32px;\n",
              "      padding: 0 0 0 0;\n",
              "      width: 32px;\n",
              "    }\n",
              "\n",
              "    .colab-df-convert:hover {\n",
              "      background-color: #E2EBFA;\n",
              "      box-shadow: 0px 1px 2px rgba(60, 64, 67, 0.3), 0px 1px 3px 1px rgba(60, 64, 67, 0.15);\n",
              "      fill: #174EA6;\n",
              "    }\n",
              "\n",
              "    [theme=dark] .colab-df-convert {\n",
              "      background-color: #3B4455;\n",
              "      fill: #D2E3FC;\n",
              "    }\n",
              "\n",
              "    [theme=dark] .colab-df-convert:hover {\n",
              "      background-color: #434B5C;\n",
              "      box-shadow: 0px 1px 3px 1px rgba(0, 0, 0, 0.15);\n",
              "      filter: drop-shadow(0px 1px 2px rgba(0, 0, 0, 0.3));\n",
              "      fill: #FFFFFF;\n",
              "    }\n",
              "  </style>\n",
              "\n",
              "      <script>\n",
              "        const buttonEl =\n",
              "          document.querySelector('#df-527052ae-5bce-44ea-8dcd-fd56471c9fa2 button.colab-df-convert');\n",
              "        buttonEl.style.display =\n",
              "          google.colab.kernel.accessAllowed ? 'block' : 'none';\n",
              "\n",
              "        async function convertToInteractive(key) {\n",
              "          const element = document.querySelector('#df-527052ae-5bce-44ea-8dcd-fd56471c9fa2');\n",
              "          const dataTable =\n",
              "            await google.colab.kernel.invokeFunction('convertToInteractive',\n",
              "                                                     [key], {});\n",
              "          if (!dataTable) return;\n",
              "\n",
              "          const docLinkHtml = 'Like what you see? Visit the ' +\n",
              "            '<a target=\"_blank\" href=https://colab.research.google.com/notebooks/data_table.ipynb>data table notebook</a>'\n",
              "            + ' to learn more about interactive tables.';\n",
              "          element.innerHTML = '';\n",
              "          dataTable['output_type'] = 'display_data';\n",
              "          await google.colab.output.renderOutput(dataTable, element);\n",
              "          const docLink = document.createElement('div');\n",
              "          docLink.innerHTML = docLinkHtml;\n",
              "          element.appendChild(docLink);\n",
              "        }\n",
              "      </script>\n",
              "    </div>\n",
              "  </div>\n",
              "  "
            ],
            "text/plain": [
              "0    Prefix  Assignment  Tutorial   Midterm  TakeHome     Final\n",
              "0 -2.479458   -2.250548 -3.691796 -0.189383 -1.239011 -0.859722\n",
              "1  0.736258    0.758733  1.045605 -0.028359  0.770107 -0.004558\n",
              "2  0.736258   -0.142226 -0.435331 -1.963736 -0.746336 -1.054740\n",
              "3 -0.335647   -0.339087  0.419923 -0.963533  1.059717  0.656127\n",
              "4  0.736258    0.462647  0.259355  1.390917  1.122198  0.295803"
            ]
          },
          "metadata": {},
          "execution_count": 23
        }
      ]
    },
    {
      "cell_type": "code",
      "source": [
        "print('Number of rows before discarding outliers = %d' % (Z.shape[0]))\n",
        "\n",
        "Z2 = Z.loc[((Z > -3).sum(axis=1)==6) & ((Z <= 3).sum(axis=1)==6),:]\n",
        "print('Number of rows after discarding missing values = %d' % (Z2.shape[0]))"
      ],
      "metadata": {
        "id": "OmUVFHwiWUjo",
        "colab": {
          "base_uri": "https://localhost:8080/"
        },
        "outputId": "228264d8-4fab-45ab-b6d1-42b00316701f"
      },
      "execution_count": 27,
      "outputs": [
        {
          "output_type": "stream",
          "name": "stdout",
          "text": [
            "Number of rows before discarding outliers = 99\n",
            "Number of rows after discarding missing values = 93\n"
          ]
        }
      ]
    },
    {
      "cell_type": "markdown",
      "source": [
        "# Sampling\n",
        "Sampling is an approach commonly used to facilitate (1) data reduction for exploratory data analysis and scaling up algorithms to big data applications and (2) quantifying uncertainties due to varying data distributions. There are various methods available for data sampling, such as sampling without replacement, where each selected instance is removed from the dataset, and sampling with replacement, where each selected instance is not removed, thus allowing it to be selected more than once in the sample."
      ],
      "metadata": {
        "id": "vRO7tfaTaWeW"
      }
    },
    {
      "cell_type": "code",
      "source": [
        "df.head()"
      ],
      "metadata": {
        "colab": {
          "base_uri": "https://localhost:8080/",
          "height": 206
        },
        "id": "8hZ5K-3mZ9PG",
        "outputId": "97c2e791-16f7-4580-a17f-400ab92adb76"
      },
      "execution_count": 29,
      "outputs": [
        {
          "output_type": "execute_result",
          "data": {
            "text/html": [
              "\n",
              "  <div id=\"df-f995bc59-2215-4ebd-9030-e3adfc678111\">\n",
              "    <div class=\"colab-df-container\">\n",
              "      <div>\n",
              "<style scoped>\n",
              "    .dataframe tbody tr th:only-of-type {\n",
              "        vertical-align: middle;\n",
              "    }\n",
              "\n",
              "    .dataframe tbody tr th {\n",
              "        vertical-align: top;\n",
              "    }\n",
              "\n",
              "    .dataframe thead th {\n",
              "        text-align: right;\n",
              "    }\n",
              "</style>\n",
              "<table border=\"1\" class=\"dataframe\">\n",
              "  <thead>\n",
              "    <tr style=\"text-align: right;\">\n",
              "      <th></th>\n",
              "      <th>Prefix</th>\n",
              "      <th>Assignment</th>\n",
              "      <th>Tutorial</th>\n",
              "      <th>Midterm</th>\n",
              "      <th>TakeHome</th>\n",
              "      <th>Final</th>\n",
              "    </tr>\n",
              "  </thead>\n",
              "  <tbody>\n",
              "    <tr>\n",
              "      <th>0</th>\n",
              "      <td>5</td>\n",
              "      <td>57.14</td>\n",
              "      <td>34.09</td>\n",
              "      <td>64.38</td>\n",
              "      <td>51.48</td>\n",
              "      <td>52.50</td>\n",
              "    </tr>\n",
              "    <tr>\n",
              "      <th>1</th>\n",
              "      <td>8</td>\n",
              "      <td>95.05</td>\n",
              "      <td>105.49</td>\n",
              "      <td>67.50</td>\n",
              "      <td>99.07</td>\n",
              "      <td>68.33</td>\n",
              "    </tr>\n",
              "    <tr>\n",
              "      <th>2</th>\n",
              "      <td>8</td>\n",
              "      <td>83.70</td>\n",
              "      <td>83.17</td>\n",
              "      <td>30.00</td>\n",
              "      <td>63.15</td>\n",
              "      <td>48.89</td>\n",
              "    </tr>\n",
              "    <tr>\n",
              "      <th>3</th>\n",
              "      <td>7</td>\n",
              "      <td>81.22</td>\n",
              "      <td>96.06</td>\n",
              "      <td>49.38</td>\n",
              "      <td>105.93</td>\n",
              "      <td>80.56</td>\n",
              "    </tr>\n",
              "    <tr>\n",
              "      <th>4</th>\n",
              "      <td>8</td>\n",
              "      <td>91.32</td>\n",
              "      <td>93.64</td>\n",
              "      <td>95.00</td>\n",
              "      <td>107.41</td>\n",
              "      <td>73.89</td>\n",
              "    </tr>\n",
              "  </tbody>\n",
              "</table>\n",
              "</div>\n",
              "      <button class=\"colab-df-convert\" onclick=\"convertToInteractive('df-f995bc59-2215-4ebd-9030-e3adfc678111')\"\n",
              "              title=\"Convert this dataframe to an interactive table.\"\n",
              "              style=\"display:none;\">\n",
              "        \n",
              "  <svg xmlns=\"http://www.w3.org/2000/svg\" height=\"24px\"viewBox=\"0 0 24 24\"\n",
              "       width=\"24px\">\n",
              "    <path d=\"M0 0h24v24H0V0z\" fill=\"none\"/>\n",
              "    <path d=\"M18.56 5.44l.94 2.06.94-2.06 2.06-.94-2.06-.94-.94-2.06-.94 2.06-2.06.94zm-11 1L8.5 8.5l.94-2.06 2.06-.94-2.06-.94L8.5 2.5l-.94 2.06-2.06.94zm10 10l.94 2.06.94-2.06 2.06-.94-2.06-.94-.94-2.06-.94 2.06-2.06.94z\"/><path d=\"M17.41 7.96l-1.37-1.37c-.4-.4-.92-.59-1.43-.59-.52 0-1.04.2-1.43.59L10.3 9.45l-7.72 7.72c-.78.78-.78 2.05 0 2.83L4 21.41c.39.39.9.59 1.41.59.51 0 1.02-.2 1.41-.59l7.78-7.78 2.81-2.81c.8-.78.8-2.07 0-2.86zM5.41 20L4 18.59l7.72-7.72 1.47 1.35L5.41 20z\"/>\n",
              "  </svg>\n",
              "      </button>\n",
              "      \n",
              "  <style>\n",
              "    .colab-df-container {\n",
              "      display:flex;\n",
              "      flex-wrap:wrap;\n",
              "      gap: 12px;\n",
              "    }\n",
              "\n",
              "    .colab-df-convert {\n",
              "      background-color: #E8F0FE;\n",
              "      border: none;\n",
              "      border-radius: 50%;\n",
              "      cursor: pointer;\n",
              "      display: none;\n",
              "      fill: #1967D2;\n",
              "      height: 32px;\n",
              "      padding: 0 0 0 0;\n",
              "      width: 32px;\n",
              "    }\n",
              "\n",
              "    .colab-df-convert:hover {\n",
              "      background-color: #E2EBFA;\n",
              "      box-shadow: 0px 1px 2px rgba(60, 64, 67, 0.3), 0px 1px 3px 1px rgba(60, 64, 67, 0.15);\n",
              "      fill: #174EA6;\n",
              "    }\n",
              "\n",
              "    [theme=dark] .colab-df-convert {\n",
              "      background-color: #3B4455;\n",
              "      fill: #D2E3FC;\n",
              "    }\n",
              "\n",
              "    [theme=dark] .colab-df-convert:hover {\n",
              "      background-color: #434B5C;\n",
              "      box-shadow: 0px 1px 3px 1px rgba(0, 0, 0, 0.15);\n",
              "      filter: drop-shadow(0px 1px 2px rgba(0, 0, 0, 0.3));\n",
              "      fill: #FFFFFF;\n",
              "    }\n",
              "  </style>\n",
              "\n",
              "      <script>\n",
              "        const buttonEl =\n",
              "          document.querySelector('#df-f995bc59-2215-4ebd-9030-e3adfc678111 button.colab-df-convert');\n",
              "        buttonEl.style.display =\n",
              "          google.colab.kernel.accessAllowed ? 'block' : 'none';\n",
              "\n",
              "        async function convertToInteractive(key) {\n",
              "          const element = document.querySelector('#df-f995bc59-2215-4ebd-9030-e3adfc678111');\n",
              "          const dataTable =\n",
              "            await google.colab.kernel.invokeFunction('convertToInteractive',\n",
              "                                                     [key], {});\n",
              "          if (!dataTable) return;\n",
              "\n",
              "          const docLinkHtml = 'Like what you see? Visit the ' +\n",
              "            '<a target=\"_blank\" href=https://colab.research.google.com/notebooks/data_table.ipynb>data table notebook</a>'\n",
              "            + ' to learn more about interactive tables.';\n",
              "          element.innerHTML = '';\n",
              "          dataTable['output_type'] = 'display_data';\n",
              "          await google.colab.output.renderOutput(dataTable, element);\n",
              "          const docLink = document.createElement('div');\n",
              "          docLink.innerHTML = docLinkHtml;\n",
              "          element.appendChild(docLink);\n",
              "        }\n",
              "      </script>\n",
              "    </div>\n",
              "  </div>\n",
              "  "
            ],
            "text/plain": [
              "0  Prefix  Assignment  Tutorial  Midterm  TakeHome  Final\n",
              "0       5       57.14     34.09    64.38     51.48  52.50\n",
              "1       8       95.05    105.49    67.50     99.07  68.33\n",
              "2       8       83.70     83.17    30.00     63.15  48.89\n",
              "3       7       81.22     96.06    49.38    105.93  80.56\n",
              "4       8       91.32     93.64    95.00    107.41  73.89"
            ]
          },
          "metadata": {},
          "execution_count": 29
        }
      ]
    },
    {
      "cell_type": "markdown",
      "source": [
        "In the following code, a sample of size 3 is randomly selected (without replacement) from the original data."
      ],
      "metadata": {
        "id": "-8WaUe38bLqJ"
      }
    },
    {
      "cell_type": "code",
      "source": [
        "sample = df.sample(n=3)\n",
        "sample"
      ],
      "metadata": {
        "colab": {
          "base_uri": "https://localhost:8080/",
          "height": 143
        },
        "id": "HiNhBwNbagCs",
        "outputId": "e509f58e-8b45-436f-bbad-366169befe94"
      },
      "execution_count": 31,
      "outputs": [
        {
          "output_type": "execute_result",
          "data": {
            "text/html": [
              "\n",
              "  <div id=\"df-bdad3eb3-2bd6-4e91-a0b6-6a5fac36bf36\">\n",
              "    <div class=\"colab-df-container\">\n",
              "      <div>\n",
              "<style scoped>\n",
              "    .dataframe tbody tr th:only-of-type {\n",
              "        vertical-align: middle;\n",
              "    }\n",
              "\n",
              "    .dataframe tbody tr th {\n",
              "        vertical-align: top;\n",
              "    }\n",
              "\n",
              "    .dataframe thead th {\n",
              "        text-align: right;\n",
              "    }\n",
              "</style>\n",
              "<table border=\"1\" class=\"dataframe\">\n",
              "  <thead>\n",
              "    <tr style=\"text-align: right;\">\n",
              "      <th></th>\n",
              "      <th>Prefix</th>\n",
              "      <th>Assignment</th>\n",
              "      <th>Tutorial</th>\n",
              "      <th>Midterm</th>\n",
              "      <th>TakeHome</th>\n",
              "      <th>Final</th>\n",
              "    </tr>\n",
              "  </thead>\n",
              "  <tbody>\n",
              "    <tr>\n",
              "      <th>93</th>\n",
              "      <td>8</td>\n",
              "      <td>87.52</td>\n",
              "      <td>91.58</td>\n",
              "      <td>56.25</td>\n",
              "      <td>71.85</td>\n",
              "      <td>85.00</td>\n",
              "    </tr>\n",
              "    <tr>\n",
              "      <th>1</th>\n",
              "      <td>8</td>\n",
              "      <td>95.05</td>\n",
              "      <td>105.49</td>\n",
              "      <td>67.50</td>\n",
              "      <td>99.07</td>\n",
              "      <td>68.33</td>\n",
              "    </tr>\n",
              "    <tr>\n",
              "      <th>57</th>\n",
              "      <td>8</td>\n",
              "      <td>87.93</td>\n",
              "      <td>108.97</td>\n",
              "      <td>28.75</td>\n",
              "      <td>87.96</td>\n",
              "      <td>47.78</td>\n",
              "    </tr>\n",
              "  </tbody>\n",
              "</table>\n",
              "</div>\n",
              "      <button class=\"colab-df-convert\" onclick=\"convertToInteractive('df-bdad3eb3-2bd6-4e91-a0b6-6a5fac36bf36')\"\n",
              "              title=\"Convert this dataframe to an interactive table.\"\n",
              "              style=\"display:none;\">\n",
              "        \n",
              "  <svg xmlns=\"http://www.w3.org/2000/svg\" height=\"24px\"viewBox=\"0 0 24 24\"\n",
              "       width=\"24px\">\n",
              "    <path d=\"M0 0h24v24H0V0z\" fill=\"none\"/>\n",
              "    <path d=\"M18.56 5.44l.94 2.06.94-2.06 2.06-.94-2.06-.94-.94-2.06-.94 2.06-2.06.94zm-11 1L8.5 8.5l.94-2.06 2.06-.94-2.06-.94L8.5 2.5l-.94 2.06-2.06.94zm10 10l.94 2.06.94-2.06 2.06-.94-2.06-.94-.94-2.06-.94 2.06-2.06.94z\"/><path d=\"M17.41 7.96l-1.37-1.37c-.4-.4-.92-.59-1.43-.59-.52 0-1.04.2-1.43.59L10.3 9.45l-7.72 7.72c-.78.78-.78 2.05 0 2.83L4 21.41c.39.39.9.59 1.41.59.51 0 1.02-.2 1.41-.59l7.78-7.78 2.81-2.81c.8-.78.8-2.07 0-2.86zM5.41 20L4 18.59l7.72-7.72 1.47 1.35L5.41 20z\"/>\n",
              "  </svg>\n",
              "      </button>\n",
              "      \n",
              "  <style>\n",
              "    .colab-df-container {\n",
              "      display:flex;\n",
              "      flex-wrap:wrap;\n",
              "      gap: 12px;\n",
              "    }\n",
              "\n",
              "    .colab-df-convert {\n",
              "      background-color: #E8F0FE;\n",
              "      border: none;\n",
              "      border-radius: 50%;\n",
              "      cursor: pointer;\n",
              "      display: none;\n",
              "      fill: #1967D2;\n",
              "      height: 32px;\n",
              "      padding: 0 0 0 0;\n",
              "      width: 32px;\n",
              "    }\n",
              "\n",
              "    .colab-df-convert:hover {\n",
              "      background-color: #E2EBFA;\n",
              "      box-shadow: 0px 1px 2px rgba(60, 64, 67, 0.3), 0px 1px 3px 1px rgba(60, 64, 67, 0.15);\n",
              "      fill: #174EA6;\n",
              "    }\n",
              "\n",
              "    [theme=dark] .colab-df-convert {\n",
              "      background-color: #3B4455;\n",
              "      fill: #D2E3FC;\n",
              "    }\n",
              "\n",
              "    [theme=dark] .colab-df-convert:hover {\n",
              "      background-color: #434B5C;\n",
              "      box-shadow: 0px 1px 3px 1px rgba(0, 0, 0, 0.15);\n",
              "      filter: drop-shadow(0px 1px 2px rgba(0, 0, 0, 0.3));\n",
              "      fill: #FFFFFF;\n",
              "    }\n",
              "  </style>\n",
              "\n",
              "      <script>\n",
              "        const buttonEl =\n",
              "          document.querySelector('#df-bdad3eb3-2bd6-4e91-a0b6-6a5fac36bf36 button.colab-df-convert');\n",
              "        buttonEl.style.display =\n",
              "          google.colab.kernel.accessAllowed ? 'block' : 'none';\n",
              "\n",
              "        async function convertToInteractive(key) {\n",
              "          const element = document.querySelector('#df-bdad3eb3-2bd6-4e91-a0b6-6a5fac36bf36');\n",
              "          const dataTable =\n",
              "            await google.colab.kernel.invokeFunction('convertToInteractive',\n",
              "                                                     [key], {});\n",
              "          if (!dataTable) return;\n",
              "\n",
              "          const docLinkHtml = 'Like what you see? Visit the ' +\n",
              "            '<a target=\"_blank\" href=https://colab.research.google.com/notebooks/data_table.ipynb>data table notebook</a>'\n",
              "            + ' to learn more about interactive tables.';\n",
              "          element.innerHTML = '';\n",
              "          dataTable['output_type'] = 'display_data';\n",
              "          await google.colab.output.renderOutput(dataTable, element);\n",
              "          const docLink = document.createElement('div');\n",
              "          docLink.innerHTML = docLinkHtml;\n",
              "          element.appendChild(docLink);\n",
              "        }\n",
              "      </script>\n",
              "    </div>\n",
              "  </div>\n",
              "  "
            ],
            "text/plain": [
              "0   Prefix  Assignment  Tutorial  Midterm  TakeHome  Final\n",
              "93       8       87.52     91.58    56.25     71.85  85.00\n",
              "1        8       95.05    105.49    67.50     99.07  68.33\n",
              "57       8       87.93    108.97    28.75     87.96  47.78"
            ]
          },
          "metadata": {},
          "execution_count": 31
        }
      ]
    },
    {
      "cell_type": "markdown",
      "source": [
        "In the next example, we randomly select 1% of the data (without replacement) and display the selected samples. The random_state argument of the function specifies the seed value of the random number generator."
      ],
      "metadata": {
        "id": "81TL6HNJa3Bj"
      }
    },
    {
      "cell_type": "code",
      "source": [
        "sample = df.sample(frac=0.01, random_state=1)\n",
        "sample"
      ],
      "metadata": {
        "colab": {
          "base_uri": "https://localhost:8080/",
          "height": 81
        },
        "id": "_Z87ALHEalpA",
        "outputId": "33008abc-01d9-446e-eb98-017283a06f48"
      },
      "execution_count": 32,
      "outputs": [
        {
          "output_type": "execute_result",
          "data": {
            "text/html": [
              "\n",
              "  <div id=\"df-65efb833-afd1-4030-9abf-f61c9296add2\">\n",
              "    <div class=\"colab-df-container\">\n",
              "      <div>\n",
              "<style scoped>\n",
              "    .dataframe tbody tr th:only-of-type {\n",
              "        vertical-align: middle;\n",
              "    }\n",
              "\n",
              "    .dataframe tbody tr th {\n",
              "        vertical-align: top;\n",
              "    }\n",
              "\n",
              "    .dataframe thead th {\n",
              "        text-align: right;\n",
              "    }\n",
              "</style>\n",
              "<table border=\"1\" class=\"dataframe\">\n",
              "  <thead>\n",
              "    <tr style=\"text-align: right;\">\n",
              "      <th></th>\n",
              "      <th>Prefix</th>\n",
              "      <th>Assignment</th>\n",
              "      <th>Tutorial</th>\n",
              "      <th>Midterm</th>\n",
              "      <th>TakeHome</th>\n",
              "      <th>Final</th>\n",
              "    </tr>\n",
              "  </thead>\n",
              "  <tbody>\n",
              "    <tr>\n",
              "      <th>92</th>\n",
              "      <td>7</td>\n",
              "      <td>95.6</td>\n",
              "      <td>82.28</td>\n",
              "      <td>76.88</td>\n",
              "      <td>108.33</td>\n",
              "      <td>78.33</td>\n",
              "    </tr>\n",
              "  </tbody>\n",
              "</table>\n",
              "</div>\n",
              "      <button class=\"colab-df-convert\" onclick=\"convertToInteractive('df-65efb833-afd1-4030-9abf-f61c9296add2')\"\n",
              "              title=\"Convert this dataframe to an interactive table.\"\n",
              "              style=\"display:none;\">\n",
              "        \n",
              "  <svg xmlns=\"http://www.w3.org/2000/svg\" height=\"24px\"viewBox=\"0 0 24 24\"\n",
              "       width=\"24px\">\n",
              "    <path d=\"M0 0h24v24H0V0z\" fill=\"none\"/>\n",
              "    <path d=\"M18.56 5.44l.94 2.06.94-2.06 2.06-.94-2.06-.94-.94-2.06-.94 2.06-2.06.94zm-11 1L8.5 8.5l.94-2.06 2.06-.94-2.06-.94L8.5 2.5l-.94 2.06-2.06.94zm10 10l.94 2.06.94-2.06 2.06-.94-2.06-.94-.94-2.06-.94 2.06-2.06.94z\"/><path d=\"M17.41 7.96l-1.37-1.37c-.4-.4-.92-.59-1.43-.59-.52 0-1.04.2-1.43.59L10.3 9.45l-7.72 7.72c-.78.78-.78 2.05 0 2.83L4 21.41c.39.39.9.59 1.41.59.51 0 1.02-.2 1.41-.59l7.78-7.78 2.81-2.81c.8-.78.8-2.07 0-2.86zM5.41 20L4 18.59l7.72-7.72 1.47 1.35L5.41 20z\"/>\n",
              "  </svg>\n",
              "      </button>\n",
              "      \n",
              "  <style>\n",
              "    .colab-df-container {\n",
              "      display:flex;\n",
              "      flex-wrap:wrap;\n",
              "      gap: 12px;\n",
              "    }\n",
              "\n",
              "    .colab-df-convert {\n",
              "      background-color: #E8F0FE;\n",
              "      border: none;\n",
              "      border-radius: 50%;\n",
              "      cursor: pointer;\n",
              "      display: none;\n",
              "      fill: #1967D2;\n",
              "      height: 32px;\n",
              "      padding: 0 0 0 0;\n",
              "      width: 32px;\n",
              "    }\n",
              "\n",
              "    .colab-df-convert:hover {\n",
              "      background-color: #E2EBFA;\n",
              "      box-shadow: 0px 1px 2px rgba(60, 64, 67, 0.3), 0px 1px 3px 1px rgba(60, 64, 67, 0.15);\n",
              "      fill: #174EA6;\n",
              "    }\n",
              "\n",
              "    [theme=dark] .colab-df-convert {\n",
              "      background-color: #3B4455;\n",
              "      fill: #D2E3FC;\n",
              "    }\n",
              "\n",
              "    [theme=dark] .colab-df-convert:hover {\n",
              "      background-color: #434B5C;\n",
              "      box-shadow: 0px 1px 3px 1px rgba(0, 0, 0, 0.15);\n",
              "      filter: drop-shadow(0px 1px 2px rgba(0, 0, 0, 0.3));\n",
              "      fill: #FFFFFF;\n",
              "    }\n",
              "  </style>\n",
              "\n",
              "      <script>\n",
              "        const buttonEl =\n",
              "          document.querySelector('#df-65efb833-afd1-4030-9abf-f61c9296add2 button.colab-df-convert');\n",
              "        buttonEl.style.display =\n",
              "          google.colab.kernel.accessAllowed ? 'block' : 'none';\n",
              "\n",
              "        async function convertToInteractive(key) {\n",
              "          const element = document.querySelector('#df-65efb833-afd1-4030-9abf-f61c9296add2');\n",
              "          const dataTable =\n",
              "            await google.colab.kernel.invokeFunction('convertToInteractive',\n",
              "                                                     [key], {});\n",
              "          if (!dataTable) return;\n",
              "\n",
              "          const docLinkHtml = 'Like what you see? Visit the ' +\n",
              "            '<a target=\"_blank\" href=https://colab.research.google.com/notebooks/data_table.ipynb>data table notebook</a>'\n",
              "            + ' to learn more about interactive tables.';\n",
              "          element.innerHTML = '';\n",
              "          dataTable['output_type'] = 'display_data';\n",
              "          await google.colab.output.renderOutput(dataTable, element);\n",
              "          const docLink = document.createElement('div');\n",
              "          docLink.innerHTML = docLinkHtml;\n",
              "          element.appendChild(docLink);\n",
              "        }\n",
              "      </script>\n",
              "    </div>\n",
              "  </div>\n",
              "  "
            ],
            "text/plain": [
              "0   Prefix  Assignment  Tutorial  Midterm  TakeHome  Final\n",
              "92       7        95.6     82.28    76.88    108.33  78.33"
            ]
          },
          "metadata": {},
          "execution_count": 32
        }
      ]
    },
    {
      "cell_type": "markdown",
      "source": [
        "Finally, we perform a sampling with replacement to create a sample whose size is equal to 1% of the entire data. You should be able to observe duplicate instances in the sample by increasing the sample size."
      ],
      "metadata": {
        "id": "A5DCdQGea63W"
      }
    },
    {
      "cell_type": "code",
      "source": [
        "sample = df.sample(frac=0.01, replace=True, random_state=1)\n",
        "sample\n"
      ],
      "metadata": {
        "colab": {
          "base_uri": "https://localhost:8080/",
          "height": 81
        },
        "id": "SeiZhMofavBD",
        "outputId": "c4d7f6fc-a60b-4490-9714-3e9882e676f8"
      },
      "execution_count": 33,
      "outputs": [
        {
          "output_type": "execute_result",
          "data": {
            "text/html": [
              "\n",
              "  <div id=\"df-228522fa-cf2b-4562-80eb-a6b8463e2ff0\">\n",
              "    <div class=\"colab-df-container\">\n",
              "      <div>\n",
              "<style scoped>\n",
              "    .dataframe tbody tr th:only-of-type {\n",
              "        vertical-align: middle;\n",
              "    }\n",
              "\n",
              "    .dataframe tbody tr th {\n",
              "        vertical-align: top;\n",
              "    }\n",
              "\n",
              "    .dataframe thead th {\n",
              "        text-align: right;\n",
              "    }\n",
              "</style>\n",
              "<table border=\"1\" class=\"dataframe\">\n",
              "  <thead>\n",
              "    <tr style=\"text-align: right;\">\n",
              "      <th></th>\n",
              "      <th>Prefix</th>\n",
              "      <th>Assignment</th>\n",
              "      <th>Tutorial</th>\n",
              "      <th>Midterm</th>\n",
              "      <th>TakeHome</th>\n",
              "      <th>Final</th>\n",
              "    </tr>\n",
              "  </thead>\n",
              "  <tbody>\n",
              "    <tr>\n",
              "      <th>37</th>\n",
              "      <td>7</td>\n",
              "      <td>89.89</td>\n",
              "      <td>57.97</td>\n",
              "      <td>32.5</td>\n",
              "      <td>85.19</td>\n",
              "      <td>51.67</td>\n",
              "    </tr>\n",
              "  </tbody>\n",
              "</table>\n",
              "</div>\n",
              "      <button class=\"colab-df-convert\" onclick=\"convertToInteractive('df-228522fa-cf2b-4562-80eb-a6b8463e2ff0')\"\n",
              "              title=\"Convert this dataframe to an interactive table.\"\n",
              "              style=\"display:none;\">\n",
              "        \n",
              "  <svg xmlns=\"http://www.w3.org/2000/svg\" height=\"24px\"viewBox=\"0 0 24 24\"\n",
              "       width=\"24px\">\n",
              "    <path d=\"M0 0h24v24H0V0z\" fill=\"none\"/>\n",
              "    <path d=\"M18.56 5.44l.94 2.06.94-2.06 2.06-.94-2.06-.94-.94-2.06-.94 2.06-2.06.94zm-11 1L8.5 8.5l.94-2.06 2.06-.94-2.06-.94L8.5 2.5l-.94 2.06-2.06.94zm10 10l.94 2.06.94-2.06 2.06-.94-2.06-.94-.94-2.06-.94 2.06-2.06.94z\"/><path d=\"M17.41 7.96l-1.37-1.37c-.4-.4-.92-.59-1.43-.59-.52 0-1.04.2-1.43.59L10.3 9.45l-7.72 7.72c-.78.78-.78 2.05 0 2.83L4 21.41c.39.39.9.59 1.41.59.51 0 1.02-.2 1.41-.59l7.78-7.78 2.81-2.81c.8-.78.8-2.07 0-2.86zM5.41 20L4 18.59l7.72-7.72 1.47 1.35L5.41 20z\"/>\n",
              "  </svg>\n",
              "      </button>\n",
              "      \n",
              "  <style>\n",
              "    .colab-df-container {\n",
              "      display:flex;\n",
              "      flex-wrap:wrap;\n",
              "      gap: 12px;\n",
              "    }\n",
              "\n",
              "    .colab-df-convert {\n",
              "      background-color: #E8F0FE;\n",
              "      border: none;\n",
              "      border-radius: 50%;\n",
              "      cursor: pointer;\n",
              "      display: none;\n",
              "      fill: #1967D2;\n",
              "      height: 32px;\n",
              "      padding: 0 0 0 0;\n",
              "      width: 32px;\n",
              "    }\n",
              "\n",
              "    .colab-df-convert:hover {\n",
              "      background-color: #E2EBFA;\n",
              "      box-shadow: 0px 1px 2px rgba(60, 64, 67, 0.3), 0px 1px 3px 1px rgba(60, 64, 67, 0.15);\n",
              "      fill: #174EA6;\n",
              "    }\n",
              "\n",
              "    [theme=dark] .colab-df-convert {\n",
              "      background-color: #3B4455;\n",
              "      fill: #D2E3FC;\n",
              "    }\n",
              "\n",
              "    [theme=dark] .colab-df-convert:hover {\n",
              "      background-color: #434B5C;\n",
              "      box-shadow: 0px 1px 3px 1px rgba(0, 0, 0, 0.15);\n",
              "      filter: drop-shadow(0px 1px 2px rgba(0, 0, 0, 0.3));\n",
              "      fill: #FFFFFF;\n",
              "    }\n",
              "  </style>\n",
              "\n",
              "      <script>\n",
              "        const buttonEl =\n",
              "          document.querySelector('#df-228522fa-cf2b-4562-80eb-a6b8463e2ff0 button.colab-df-convert');\n",
              "        buttonEl.style.display =\n",
              "          google.colab.kernel.accessAllowed ? 'block' : 'none';\n",
              "\n",
              "        async function convertToInteractive(key) {\n",
              "          const element = document.querySelector('#df-228522fa-cf2b-4562-80eb-a6b8463e2ff0');\n",
              "          const dataTable =\n",
              "            await google.colab.kernel.invokeFunction('convertToInteractive',\n",
              "                                                     [key], {});\n",
              "          if (!dataTable) return;\n",
              "\n",
              "          const docLinkHtml = 'Like what you see? Visit the ' +\n",
              "            '<a target=\"_blank\" href=https://colab.research.google.com/notebooks/data_table.ipynb>data table notebook</a>'\n",
              "            + ' to learn more about interactive tables.';\n",
              "          element.innerHTML = '';\n",
              "          dataTable['output_type'] = 'display_data';\n",
              "          await google.colab.output.renderOutput(dataTable, element);\n",
              "          const docLink = document.createElement('div');\n",
              "          docLink.innerHTML = docLinkHtml;\n",
              "          element.appendChild(docLink);\n",
              "        }\n",
              "      </script>\n",
              "    </div>\n",
              "  </div>\n",
              "  "
            ],
            "text/plain": [
              "0   Prefix  Assignment  Tutorial  Midterm  TakeHome  Final\n",
              "37       7       89.89     57.97     32.5     85.19  51.67"
            ]
          },
          "metadata": {},
          "execution_count": 33
        }
      ]
    },
    {
      "cell_type": "markdown",
      "source": [
        "# Discretization\n",
        "Discretization is a data preprocessing step that is often used to transform a continuous-valued attribute to a categorical attribute. The example below illustrates two simple but widely-used unsupervised discretization methods applied to the 'Assignment' attribute of the breast cancer dataset.\n",
        "\n",
        "First, we plot a histogram that shows the distribution of the attribute values. The value_counts() function can also be applied to count the frequency of each attribute value.\n",
        "\n"
      ],
      "metadata": {
        "id": "lYKlcB4Obcfu"
      }
    },
    {
      "cell_type": "code",
      "source": [
        "df['Assignment'].hist(bins=10)\n",
        "df['Assignment'].value_counts(sort=False)"
      ],
      "metadata": {
        "colab": {
          "base_uri": "https://localhost:8080/",
          "height": 1000
        },
        "id": "j5LO2vlRbXFC",
        "outputId": "4620fd31-f91f-475f-9fd8-a8c4422a5e2b"
      },
      "execution_count": 34,
      "outputs": [
        {
          "output_type": "execute_result",
          "data": {
            "text/plain": [
              "57.14     2\n",
              "95.05     3\n",
              "83.70     2\n",
              "81.22     2\n",
              "91.32     2\n",
              "95.00     3\n",
              "72.85     2\n",
              "84.26     3\n",
              "90.10     1\n",
              "80.44     2\n",
              "86.26     3\n",
              "97.16     2\n",
              "91.28     3\n",
              "84.80     2\n",
              "93.83     3\n",
              "92.01     2\n",
              "55.14     1\n",
              "93.04     1\n",
              "63.40     2\n",
              "75.27     3\n",
              "63.78     1\n",
              "53.36     1\n",
              "82.45     1\n",
              "91.62     1\n",
              "98.58     3\n",
              "67.29     1\n",
              "85.42     1\n",
              "88.09     1\n",
              "89.89     1\n",
              "90.74     1\n",
              "28.14     1\n",
              "95.14     2\n",
              "68.95     2\n",
              "85.01     1\n",
              "95.90     1\n",
              "92.46     1\n",
              "96.73     2\n",
              "71.79     3\n",
              "87.93     3\n",
              "92.02     3\n",
              "90.33     1\n",
              "97.00     2\n",
              "93.01     1\n",
              "100.83    1\n",
              "80.53     1\n",
              "90.98     1\n",
              "93.59     1\n",
              "97.33     3\n",
              "66.17     1\n",
              "74.29     1\n",
              "86.86     1\n",
              "95.60     3\n",
              "98.49     1\n",
              "74.35     1\n",
              "86.29     1\n",
              "96.41     1\n",
              "87.52     1\n",
              "85.34     1\n",
              "89.94     1\n",
              "Name: Assignment, dtype: int64"
            ]
          },
          "metadata": {},
          "execution_count": 34
        },
        {
          "output_type": "display_data",
          "data": {
            "image/png": "[encoded data removed]",
            "text/plain": [
              "<Figure size 432x288 with 1 Axes>"
            ]
          },
          "metadata": {
            "needs_background": "light"
          }
        }
      ]
    },
    {
      "cell_type": "markdown",
      "source": [
        "we can apply the cut() function to discretize the attribute into 4 bins of similar interval. The value_counts() function can be used to determine the number of instances in each bin."
      ],
      "metadata": {
        "id": "cUeHzq7PcTIh"
      }
    },
    {
      "cell_type": "code",
      "source": [
        "bins = pd.cut(df['Assignment'],4)\n",
        "bins.value_counts(sort=False)"
      ],
      "metadata": {
        "colab": {
          "base_uri": "https://localhost:8080/"
        },
        "id": "BAi6lGDYcGI6",
        "outputId": "3364a394-be53-4a97-dd7a-42fd5090c254"
      },
      "execution_count": 36,
      "outputs": [
        {
          "output_type": "execute_result",
          "data": {
            "text/plain": [
              "(28.067, 46.312]     1\n",
              "(46.312, 64.485]     7\n",
              "(64.485, 82.658]    20\n",
              "(82.658, 100.83]    71\n",
              "Name: Assignment, dtype: int64"
            ]
          },
          "metadata": {},
          "execution_count": 36
        }
      ]
    },
    {
      "cell_type": "markdown",
      "source": [
        "For the equal frequency method, the qcut() function can be used to partition the values into 4 bins such that each bin has nearly the same number of instances."
      ],
      "metadata": {
        "id": "Zo5th6Q7cj8e"
      }
    },
    {
      "cell_type": "code",
      "source": [
        "bins = pd.qcut(df['Assignment'],4)\n",
        "bins.value_counts(sort=False)"
      ],
      "metadata": {
        "colab": {
          "base_uri": "https://localhost:8080/"
        },
        "id": "dbiyKE9wcdF8",
        "outputId": "fcca07e2-0ce0-4fe6-c483-31ef3f55ecfe"
      },
      "execution_count": 37,
      "outputs": [
        {
          "output_type": "execute_result",
          "data": {
            "text/plain": [
              "(28.139, 80.875]    25\n",
              "(80.875, 89.94]     25\n",
              "(89.94, 95.0]       25\n",
              "(95.0, 100.83]      24\n",
              "Name: Assignment, dtype: int64"
            ]
          },
          "metadata": {},
          "execution_count": 37
        }
      ]
    },
    {
      "cell_type": "markdown",
      "source": [
        "#to check distribution of data\n",
        "Feature scaling is the method to limit the range of variables so that they can be compared on common grounds. \n",
        "It is performed on continuous variables. \n",
        "This is the  plot  for the distribution of all the continuous variables in  the data set.\n",
        "feature scaling to convert different scales to a standard scale \n",
        "\n"
      ],
      "metadata": {
        "id": "n7WXtkPDc00G"
      }
    },
    {
      "cell_type": "code",
      "source": [
        "from sklearn.preprocessing import StandardScaler\n",
        "scaler = StandardScaler().fit(df)\n",
        "rescaledX = scaler.transform(df)\n",
        "print(rescaledX)\n"
      ],
      "metadata": {
        "colab": {
          "base_uri": "https://localhost:8080/"
        },
        "id": "v0vdqF1scr9E",
        "outputId": "0b47c3e2-1576-4d69-ced3-e5a84a5d4eff"
      },
      "execution_count": 39,
      "outputs": [
        {
          "output_type": "stream",
          "name": "stdout",
          "text": [
            "[[-2.49207650e+00 -2.26200143e+00 -3.71058404e+00 -1.90346571e-01\n",
            "  -1.24531600e+00 -8.64096841e-01]\n",
            " [ 7.40005249e-01  7.62594001e-01  1.05092584e+00 -2.85037808e-02\n",
            "   7.74025713e-01 -4.58127768e-03]\n",
            " [ 7.40005249e-01 -1.42949606e-01 -4.37546154e-01 -1.97372963e+00\n",
            "  -7.50133866e-01 -1.06010765e+00]\n",
            " [-3.37355334e-01 -3.40812879e-01  4.22059762e-01 -9.68436911e-01\n",
            "   1.06510964e+00  6.59466438e-01]\n",
            " [ 7.40005249e-01  4.65001256e-01  2.60675253e-01  1.39799518e+00\n",
            "   1.12790909e+00  2.97307954e-01]\n",
            " [-3.37355334e-01  7.58604822e-01  1.89986171e-01  1.30047452e+00\n",
            "   7.19288357e-01 -1.92413662e-02]\n",
            " [ 7.40005249e-01  7.62594001e-01  8.84206309e-01 -6.12071536e-01\n",
            "   7.74025713e-01 -9.99838401e-01]\n",
            " [-3.37355334e-01 -1.00860142e+00 -1.92135000e-01 -4.17548951e-01\n",
            "   1.20599167e-15 -6.68086027e-01]\n",
            " [ 7.40005249e-01 -9.82708027e-02  2.24663834e-01 -1.06595757e+00\n",
            "  -2.64387668e+00 -9.54772203e-01]\n",
            " [-3.37355334e-01  3.67665291e-01  5.21424604e-01 -8.71434982e-01\n",
            "   3.42067347e-01 -2.60861344e-01]\n",
            " [-3.37355334e-01 -4.03044070e-01  3.12691748e-02  3.60541389e-01\n",
            "   4.51966381e-01 -1.55800770e+00]\n",
            " [-1.41471592e+00  6.12963527e-02 -6.08933834e-01  3.28380322e-01\n",
            "   2.86905670e-01  4.93318767e-01]\n",
            " [ 7.40005249e-01  9.30937350e-01  9.32221535e-01  2.30859666e-01\n",
            "   5.38527783e-01 -2.76064399e-01]\n",
            " [-3.37355334e-01  4.61809913e-01 -4.13538541e-01  6.84745697e-01\n",
            "   8.05425437e-01  1.29256508e+00]\n",
            " [ 7.40005249e-01 -5.51876707e-02 -4.34211763e-02 -1.22780036e+00\n",
            "  -2.71219230e+00 -1.76922157e+00]\n",
            " [-3.37355334e-01  6.65258036e-01  3.80046439e-01  1.04111107e+00\n",
            "   4.30815299e-03  1.17202657e+00]\n",
            " [ 7.40005249e-01 -5.51876707e-02 -4.34211763e-02 -1.06595757e+00\n",
            "  -2.71219230e+00 -8.19030642e-01]\n",
            " [-3.56943708e+00  5.20051925e-01  8.52863037e-01 -1.51984360e+00\n",
            "   2.24106221e-01 -1.04490460e+00]\n",
            " [ 7.40005249e-01 -2.42156859e+00 -5.25574068e-01  3.60541389e-01\n",
            "  -1.04885557e+00 -3.21130597e-01]\n",
            " [ 7.40005249e-01  6.02229010e-01 -4.53551229e-01  5.87743768e-01\n",
            "   1.06145096e-01  1.23229582e+00]\n",
            " [ 7.40005249e-01 -1.76255623e+00 -2.34815201e-01 -2.55706160e-01\n",
            "  -3.41513132e-01  7.71601440e-16]\n",
            " [ 7.40005249e-01 -8.15525166e-01  5.19423969e-01 -2.55706160e-01\n",
            "  -8.36695267e-01 -1.25119784e-01]\n",
            " [ 7.40005249e-01 -1.73223847e+00 -9.01693336e-01 -1.48716380e+00\n",
            "  -1.63823687e+00 -1.84469388e+00]\n",
            " [-3.37355334e-01 -4.03044070e-01  3.12691748e-02 -1.13079843e+00\n",
            "   4.51966381e-01  2.06632591e-01]\n",
            " [-3.37355334e-01 -2.56358335e+00 -5.14904017e-01  3.28380322e-01\n",
            "   9.23386563e-01 -6.52882972e-01]\n",
            " [-1.41471592e+00  4.61809913e-01  3.67375755e-01  7.49586559e-01\n",
            "   7.11226265e-01  1.32297119e+00]\n",
            " [ 7.40005249e-01 -2.42679078e-01 -2.05472563e-01  1.30047452e+00\n",
            "   2.00768589e-01  1.12696037e+00]\n",
            " [ 7.40005249e-01 -8.15525166e-01 -2.04138807e-01  6.90168751e-02\n",
            "  -8.36695267e-01  1.11175732e+00]\n",
            " [ 7.40005249e-01  4.65001256e-01  3.44035020e-01  4.25382251e-01\n",
            "   1.12790909e+00  9.30949559e-01]\n",
            " [-3.37355334e-01  4.88936329e-01 -1.63725992e+00  1.98698598e-01\n",
            "   3.89166933e-01 -1.24091541e+00]\n",
            " [-3.37355334e-01  1.04423003e+00  8.48861768e-01 -2.85037808e-02\n",
            "   7.11226265e-01 -2.76064399e-01]\n",
            " [-3.37355334e-01  6.12963527e-02 -7.74319612e-02  1.01177943e-01\n",
            "   2.86905670e-01 -7.28355280e-01]\n",
            " [ 7.40005249e-01 -1.45219812e+00  3.94050880e-01 -1.03379650e+00\n",
            "  -3.65275086e-01 -1.36199689e+00]\n",
            " [-3.37355334e-01  1.04423003e+00  8.66200599e-02  1.72219948e+00\n",
            "   9.94248102e-01  2.13742055e+00]\n",
            " [ 7.40005249e-01 -5.72185254e-03  3.96051514e-01 -6.12071536e-01\n",
            "   9.62848378e-01 -2.00592091e-01]\n",
            " [-2.49207650e+00  2.07300300e-01 -1.75663110e+00  3.28380322e-01\n",
            "   5.46165554e-01 -9.54772203e-01]\n",
            " [-1.41471592e+00  7.62594001e-01 -1.29981958e+00 -8.06594121e-01\n",
            "  -1.20585419e+00 -1.12037691e+00]\n",
            " [-3.37355334e-01  3.50910740e-01 -2.11807905e+00 -1.84404791e+00\n",
            "   1.85068727e-01 -9.09163039e-01]\n",
            " [-1.41471592e+00  4.18726781e-01 -6.07600078e-03 -3.52708089e-01\n",
            "   3.89166933e-01  7.71601440e-16]\n",
            " [-3.37355334e-01  7.58604822e-01  3.08690479e-01  1.10647066e+00\n",
            "   8.52949344e-01  9.00543450e-01]\n",
            " [-1.41471592e+00 -4.57572518e+00 -2.08206763e+00  2.30859666e-01\n",
            "  -1.15111683e+00 -4.58127768e-03]\n",
            " [-3.37355334e-01  7.69774523e-01 -4.70890061e-01  2.17608552e+00\n",
            "   3.81104842e-01  1.21709277e+00]\n",
            " [-3.37355334e-01  5.20051925e-01  1.52374244e+00  9.44109144e-01\n",
            "   2.24106221e-01  8.09868087e-01]\n",
            " [-3.37355334e-01  6.12963527e-02 -1.00505945e+00  8.79268282e-01\n",
            "  -7.11096371e-01  7.49598834e-01]\n",
            " [-1.41471592e+00 -2.26200143e+00 -3.71058404e+00 -6.06648482e-02\n",
            "  -1.24531600e+00 -6.83289082e-01]\n",
            " [-3.37355334e-01  6.65258036e-01 -2.16142613e+00 -2.07125029e+00\n",
            "  -1.21715064e-01 -1.24091541e+00]\n",
            " [ 7.40005249e-01 -1.31975738e+00 -1.64192806e+00 -1.22780036e+00\n",
            "  -9.93693888e-01 -1.70185982e-01]\n",
            " [ 7.40005249e-01 -3.84331194e-02  5.82777392e-01  1.20347259e+00\n",
            "   1.06145096e-01  2.06632591e-01]\n",
            " [ 7.40005249e-01  8.30410042e-01  6.84142869e-01  1.43015624e+00\n",
            "   1.04940978e+00  1.83553132e+00]\n",
            " [ 7.40005249e-01  5.55954535e-01  4.01386539e-01 -3.20028295e-01\n",
            "   1.06145096e-01 -1.06010765e+00]\n",
            " [ 7.40005249e-01  8.96630411e-01 -1.08108355e-01  1.98698598e-01\n",
            "   7.03588494e-01 -1.54982927e-01]\n",
            " [ 7.40005249e-01 -1.42949606e-01 -4.37546154e-01 -3.85387883e-01\n",
            "  -7.50133866e-01 -5.77410664e-01]\n",
            " [-3.37355334e-01  7.69774523e-01  2.85349744e-01  1.62519755e+00\n",
            "   8.13487529e-01  1.44350969e+00]\n",
            " [-3.37355334e-01  1.04423003e+00 -9.54376708e-02  1.17079280e+00\n",
            "   8.52949344e-01  1.66992662e+00]\n",
            " [ 7.40005249e-01 -1.09317202e+00  8.76203771e-01 -7.09592192e-01\n",
            "  -2.51615618e+00 -1.75401851e+00]\n",
            " [ 7.40005249e-01 -1.09317202e+00  7.96845273e-01  3.60541389e-01\n",
            "  -2.51615618e+00 -1.03024451e+00]\n",
            " [ 7.40005249e-01  1.94534928e-01  1.12028117e+00 -1.58468446e+00\n",
            "   7.03588494e-01 -2.19110634e+00]\n",
            " [ 7.40005249e-01  1.94534928e-01  1.28299943e+00 -2.03857049e+00\n",
            "   3.02605532e-01 -1.12037691e+00]\n",
            " [ 7.40005249e-01 -1.31975738e+00 -1.64192806e+00 -1.45500274e+00\n",
            "  -9.93693888e-01  5.68791075e-01]\n",
            " [-3.37355334e-01 -1.00860142e+00 -1.92135000e-01 -1.39016188e+00\n",
            "  -8.68094991e-01 -1.18064616e+00]\n",
            " [ 7.40005249e-01 -1.09317202e+00  8.76203771e-01 -1.35748208e+00\n",
            "  -2.37867631e+00  7.71601440e-16]\n",
            " [ 7.40005249e-01  5.20849760e-01  5.35429044e-01 -1.13079843e+00\n",
            "  -1.42607657e+00 -4.26466049e-01]\n",
            " [-3.37355334e-01  3.86015514e-01 -1.44786653e-01  3.63370809e-02\n",
            "  -1.21715064e-01 -5.47547521e-01]\n",
            " [-3.37355334e-01  7.58604822e-01  3.08690479e-01  1.17079280e+00\n",
            "   8.52949344e-01  1.77526207e+00]\n",
            " [-3.37355334e-01  4.61809913e-01  1.26566060e+00  1.46283604e+00\n",
            "   8.05425437e-01  1.11175732e+00]\n",
            " [ 7.40005249e-01  9.18171977e-01  8.86206943e-01  1.30047452e+00\n",
            "   1.08844727e+00  1.41310358e+00]\n",
            " [ 7.40005249e-01  5.99835502e-01  9.63564807e-01 -6.76912397e-01\n",
            "   6.79826541e-01 -6.48505307e-02]\n",
            " [ 7.40005249e-01  5.20849760e-01  7.23488678e-01 -7.09592192e-01\n",
            "  -7.18734142e-01 -2.45658290e-01]\n",
            " [-3.37355334e-01  1.22374308e+00  1.05626087e+00  1.72219948e+00\n",
            "   1.00188587e+00  2.19768980e+00]\n",
            " [ 7.40005249e-01 -3.95863548e-01  2.04657490e-01 -8.71434982e-01\n",
            "  -3.41513132e-01 -9.47136740e-02]\n",
            " [ 7.40005249e-01  4.37874840e-01  5.21424604e-01  9.44109144e-01\n",
            "   3.42067347e-01  1.17202657e+00]\n",
            " [ 7.40005249e-01  6.46109977e-01  9.40224072e-01  1.26831345e+00\n",
            "   6.79826541e-01  1.02108196e+00]\n",
            " [ 7.40005249e-01  9.44500558e-01  7.12818628e-01  6.90168751e-02\n",
            "   9.23386563e-01  7.95207999e-01]\n",
            " [-3.37355334e-01 -9.82708027e-02  1.05292648e-01 -2.55706160e-01\n",
            "   1.06145096e-01  3.87983316e-01]\n",
            " [ 7.40005249e-01 -9.82708027e-02  4.62072450e-01 -8.06594121e-01\n",
            "   1.06145096e-01 -9.99838401e-01]\n",
            " [-3.37355334e-01  6.65258036e-01  8.30856058e-01  1.98156293e+00\n",
            "   5.77565278e-01  1.86593743e+00]\n",
            " [ 7.40005249e-01 -8.15525166e-01 -2.04138807e-01  1.01177943e-01\n",
            "  -3.80974948e-01  6.29060328e-01]\n",
            " [ 7.40005249e-01  5.20849760e-01  7.23488678e-01  2.63020733e-01\n",
            "  -7.18734142e-01 -1.70185982e-01]\n",
            " [ 7.40005249e-01  9.30937350e-01  9.32221535e-01  8.14427421e-01\n",
            "   6.40789046e-01  5.68791075e-01]\n",
            " [ 7.40005249e-01 -1.54155572e+00  2.63342766e-01  1.98698598e-01\n",
            "  -1.63823687e+00 -3.81399850e-01]\n",
            " [ 7.40005249e-01 -3.40812879e-01  1.47972848e-01  5.87743768e-01\n",
            "   1.06510964e+00  1.17202657e+00]\n",
            " [-3.37355334e-01 -8.93713073e-01 -1.60258225e+00  5.55063974e-01\n",
            "   9.62848378e-01 -7.28355280e-01]\n",
            " [ 7.40005249e-01  9.44500558e-01  1.13428561e+00  4.58062045e-01\n",
            "   1.19070854e+00  8.40274197e-01]\n",
            " [-3.56943708e+00  1.09166499e-01 -1.80664696e+00  1.26831345e+00\n",
            "   1.85068727e-01 -3.05927543e-01]\n",
            " [-1.41471592e+00  8.06474969e-01 -1.88933985e+00 -1.90346571e-01\n",
            "   8.05425437e-01 -1.39186003e+00]\n",
            " [-3.56943708e+00  1.94534928e-01  6.49465206e-01 -7.74433053e-01\n",
            "   3.02605532e-01 -3.96602905e-01]\n",
            " [-1.41471592e+00  1.03704951e+00  3.80046439e-01 -1.32532101e+00\n",
            "  -2.37867631e+00 -1.57321075e+00]\n",
            " [-3.37355334e-01 -8.88926058e-01  2.13326905e-01  9.44109144e-01\n",
            "  -9.03153398e-02  2.97307954e-01]\n",
            " [-3.37355334e-01  6.36898601e-02 -6.14268860e-02  7.81747626e-01\n",
            "  -1.21715064e-01  4.02643405e-01]\n",
            " [ 7.40005249e-01  9.18171977e-01  7.19487410e-01 -1.90346571e-01\n",
            "   4.20566657e-01 -5.32344466e-01]\n",
            " [ 7.40005249e-01  9.44500558e-01  1.13428561e+00  6.84745697e-01\n",
            "   1.19070854e+00  1.46363338e-01]\n",
            " [ 7.40005249e-01  8.71099667e-01  9.32221535e-01 -6.12071536e-01\n",
            "   6.40789046e-01 -1.09916729e-01]\n",
            " [-3.37355334e-01  8.06474969e-01 -4.96898308e-01  4.58062045e-01\n",
            "   1.16694658e+00  5.38384965e-01]\n",
            " [ 7.40005249e-01  1.61823661e-01  1.23298357e-01 -6.12071536e-01\n",
            "  -3.80974948e-01  9.00543450e-01]\n",
            " [ 7.40005249e-01  8.96630411e-01  9.32221535e-01 -1.19563929e+00\n",
            "   5.38527783e-01 -3.51536707e-01]\n",
            " [-3.37355334e-01 -1.21045388e-02 -6.12935103e-01 -1.39016188e+00\n",
            "   5.46165554e-01 -1.55800770e+00]\n",
            " [ 7.40005249e-01  3.54899919e-01  8.69534990e-01  1.00895001e+00\n",
            "   4.20566657e-01  1.05148807e+00]\n",
            " [-3.37355334e-01  8.06474969e-01 -9.07028361e-01 -9.33446424e-02\n",
            "   8.05425437e-01  9.30949559e-01]\n",
            " [ 7.40005249e-01 -1.76255623e+00  5.09420797e-01  2.63020733e-01\n",
            "  -3.41513132e-01  4.78115713e-01]]\n"
          ]
        }
      ]
    },
    {
      "cell_type": "code",
      "source": [
        ""
      ],
      "metadata": {
        "id": "yHUJaGoUc-o8"
      },
      "execution_count": null,
      "outputs": []
    }
  ]
}